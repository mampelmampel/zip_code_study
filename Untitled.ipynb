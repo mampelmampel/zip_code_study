{
 "cells": [
  {
   "cell_type": "code",
   "execution_count": 24,
   "metadata": {},
   "outputs": [],
   "source": [
    "import pandas as pd\n",
    "import numpy as np\n",
    "import seaborn as sns\n",
    "import matplotlib.pyplot as plt\n",
    "%matplotlib inline\n",
    "\n",
    "sale_price = pd.read_csv('data/Sale_Prices_Zip.csv')\n",
    "pct_reduced = pd.read_csv('data/Zip_PctOfListingsWithPriceReductions_AllHomes.csv')\n",
    "rent = pd.read_csv('data/Zip_Zri_AllHomes.csv')\n",
    "price_to_rent = pd.read_csv('data/Zip_PriceToRentRatio_AllHomes.csv')\n",
    "value = pd.read_csv('data/Zip_Zhvi_AllHomes.csv')"
   ]
  },
  {
   "cell_type": "code",
   "execution_count": 25,
   "metadata": {},
   "outputs": [],
   "source": [
    "####Standarize states when necessary - from full names to 2 letter abbrevs. Change \"StateNames\" column headers to \"State\"\n",
    "\n",
    "state_abbrev = {\n",
    "    'Alabama': 'AL',\n",
    "    'Alaska': 'AK',\n",
    "    'Arizona': 'AZ',\n",
    "    'Arkansas': 'AR',\n",
    "    'California': 'CA',\n",
    "    'Colorado': 'CO',\n",
    "    'Connecticut': 'CT',\n",
    "    'Delaware': 'DE',\n",
    "    'District of Columbia': 'DC',\n",
    "    'Florida': 'FL',\n",
    "    'Georgia': 'GA',\n",
    "    'Hawaii': 'HI',\n",
    "    'Idaho': 'ID',\n",
    "    'Illinois': 'IL',\n",
    "    'Indiana': 'IN',\n",
    "    'Iowa': 'IA',\n",
    "    'Kansas': 'KS',\n",
    "    'Kentucky': 'KY',\n",
    "    'Louisiana': 'LA',\n",
    "    'Maine': 'ME',\n",
    "    'Maryland': 'MD',\n",
    "    'Massachusetts': 'MA',\n",
    "    'Michigan': 'MI',\n",
    "    'Minnesota': 'MN',\n",
    "    'Mississippi': 'MS',\n",
    "    'Missouri': 'MO',\n",
    "    'Montana': 'MT',\n",
    "    'Nebraska': 'NE',\n",
    "    'Nevada': 'NV',\n",
    "    'New Hampshire': 'NH',\n",
    "    'New Jersey': 'NJ',\n",
    "    'New Mexico': 'NM',\n",
    "    'New York': 'NY',\n",
    "    'North Carolina': 'NC',\n",
    "    'North Dakota': 'ND',\n",
    "    'Ohio': 'OH',\n",
    "    'Oklahoma': 'OK',\n",
    "    'Oregon': 'OR',\n",
    "    'Pennsylvania': 'PA',\n",
    "    'Rhode Island': 'RI',\n",
    "    'South Carolina': 'SC',\n",
    "    'South Dakota': 'SD',\n",
    "    'Tennessee': 'TN',\n",
    "    'Texas': 'TX',\n",
    "    'Utah': 'UT',\n",
    "    'Vermont': 'VT',\n",
    "    'Virginia': 'VA',\n",
    "    'Washington': 'WA',\n",
    "    'West Virginia': 'WV',\n",
    "    'Wisconsin': 'WI',\n",
    "    'Wyoming': 'WY',\n",
    "}\n",
    "\n",
    "\n",
    "sale_price['StateName'].replace(state_abbrev, inplace=True)\n",
    "sale_price.rename(columns={'StateName':'State'}, inplace=True)"
   ]
  },
  {
   "cell_type": "code",
   "execution_count": 26,
   "metadata": {},
   "outputs": [],
   "source": [
    "####sale_price\n",
    "\n",
    "sale_price['sale_price_avg_201409_201508'] = sale_price.loc[:, '2014-09':'2015-08'].mean(axis=1)\n",
    "sale_price['sale_price_avg_201509_201608'] = sale_price.loc[:, '2015-09':'2016-08'].mean(axis=1)\n",
    "sale_price['sale_price_avg_201609_201708'] = sale_price.loc[:, '2016-09':'2017-08'].mean(axis=1)\n",
    "sale_price['sale_price_avg_201709_201808'] = sale_price.loc[:, '2017-09':'2018-08'].mean(axis=1)\n",
    "\n",
    "sale_price['sale_price_yoy_gr_2014_2016'] = (sale_price.sale_price_avg_201509_201608 - sale_price.sale_price_avg_201409_201508) / sale_price.sale_price_avg_201409_201508\n",
    "sale_price['sale_price_yoy_gr_2015_2017'] = (sale_price.sale_price_avg_201609_201708 - sale_price.sale_price_avg_201509_201608) / sale_price.sale_price_avg_201509_201608\n",
    "sale_price['sale_price_yoy_gr_2016_2018'] = (sale_price.sale_price_avg_201709_201808 - sale_price.sale_price_avg_201609_201708) / sale_price.sale_price_avg_201609_201708\n",
    "\n",
    "sale_price['sale_price_3yravg_yoy_gr_2014_2018'] = (sale_price.sale_price_yoy_gr_2014_2016 + sale_price.sale_price_yoy_gr_2015_2017 + sale_price.sale_price_yoy_gr_2016_2018) / 3"
   ]
  },
  {
   "cell_type": "code",
   "execution_count": 27,
   "metadata": {},
   "outputs": [],
   "source": [
    "####pct_reduced\n",
    "\n",
    "pct_reduced['pct_reduced_avg_201409_201508'] = pct_reduced.loc[:, '2014-09':'2015-08'].mean(axis=1)\n",
    "pct_reduced['pct_reduced_avg_201509_201608'] = pct_reduced.loc[:, '2015-09':'2016-08'].mean(axis=1)\n",
    "pct_reduced['pct_reduced_avg_201609_201708'] = pct_reduced.loc[:, '2016-09':'2017-08'].mean(axis=1)\n",
    "pct_reduced['pct_reduced_avg_201709_201808'] = pct_reduced.loc[:, '2017-09':'2018-08'].mean(axis=1)\n",
    "\n",
    "pct_reduced['pct_reduced_yoy_gr_2014_2016'] = (pct_reduced.pct_reduced_avg_201509_201608 - pct_reduced.pct_reduced_avg_201409_201508) / pct_reduced.pct_reduced_avg_201409_201508\n",
    "pct_reduced['pct_reduced_yoy_gr_2015_2017'] = (pct_reduced.pct_reduced_avg_201609_201708 - pct_reduced.pct_reduced_avg_201509_201608) / pct_reduced.pct_reduced_avg_201509_201608\n",
    "pct_reduced['pct_reduced_yoy_gr_2016_2018'] = (pct_reduced.pct_reduced_avg_201709_201808 - pct_reduced.pct_reduced_avg_201609_201708) / pct_reduced.pct_reduced_avg_201609_201708\n",
    "\n",
    "pct_reduced['pct_reduced_3yravg_yoy_gr_2014_2018'] = (pct_reduced.pct_reduced_yoy_gr_2014_2016 + pct_reduced.pct_reduced_yoy_gr_2015_2017 + pct_reduced.pct_reduced_yoy_gr_2016_2018) / 3"
   ]
  },
  {
   "cell_type": "code",
   "execution_count": 28,
   "metadata": {},
   "outputs": [],
   "source": [
    "####price_to_rent dataframe: only need to find 1yr avg and 3yr avg\n",
    "\n",
    "price_to_rent['price_to_rent_avg_201509_201608'] = price_to_rent.loc[:, '2015-09':'2016-08'].mean(axis=1)\n",
    "price_to_rent['price_to_rent_avg_201609_201708'] = price_to_rent.loc[:, '2016-09':'2017-08'].mean(axis=1)\n",
    "price_to_rent['price_to_rent_avg_201709_201808'] = price_to_rent.loc[:, '2017-09':'2018-08'].mean(axis=1)\n",
    "\n",
    "price_to_rent['price_to_rent_3yravg_2015_2018'] = (price_to_rent.price_to_rent_avg_201509_201608 + price_to_rent.price_to_rent_avg_201609_201708 + price_to_rent.price_to_rent_avg_201709_201808) / 3"
   ]
  },
  {
   "cell_type": "code",
   "execution_count": 30,
   "metadata": {},
   "outputs": [],
   "source": [
    "####value\n",
    "\n",
    "value['value_avg_201409_201508'] = value.loc[:, '2014-09':'2015-08'].mean(axis=1)\n",
    "value['value_avg_201509_201608'] = value.loc[:, '2015-09':'2016-08'].mean(axis=1)\n",
    "value['value_avg_201609_201708'] = value.loc[:, '2016-09':'2017-08'].mean(axis=1)\n",
    "value['value_avg_201709_201808'] = value.loc[:, '2017-09':'2018-08'].mean(axis=1)\n",
    "\n",
    "value['value_yoy_gr_2014_2016'] = (value.value_avg_201509_201608 - value.value_avg_201409_201508) / value.value_avg_201409_201508\n",
    "value['value_yoy_gr_2015_2017'] = (value.value_avg_201609_201708 - value.value_avg_201509_201608) / value.value_avg_201509_201608\n",
    "value['value_yoy_gr_2016_2018'] = (value.value_avg_201709_201808 - value.value_avg_201609_201708) / value.value_avg_201609_201708\n",
    "\n",
    "value['value_3yravg_yoy_gr_2014_2018'] = (value.value_yoy_gr_2014_2016 + value.value_yoy_gr_2015_2017 + value.value_yoy_gr_2016_2018) / 3"
   ]
  },
  {
   "cell_type": "code",
   "execution_count": 31,
   "metadata": {},
   "outputs": [],
   "source": [
    "####cut down GR dataframes to columns: RegionID, yoy_gr_2016_2018, and 3yravg_yoy_gr_2014_2018\n",
    "\n",
    "sale_price = sale_price[['RegionID', 'sale_price_yoy_gr_2016_2018', 'sale_price_3yravg_yoy_gr_2014_2018']]\n",
    "pct_reduced = pct_reduced[['RegionID', 'pct_reduced_yoy_gr_2016_2018', 'pct_reduced_3yravg_yoy_gr_2014_2018']]\n",
    "price_to_rent = price_to_rent[['RegionID', 'price_to_rent_avg_201709_201808', 'price_to_rent_3yravg_2015_2018']]\n",
    "value = value[['RegionID', 'value_yoy_gr_2016_2018', 'value_3yravg_yoy_gr_2014_2018']]"
   ]
  },
  {
   "cell_type": "code",
   "execution_count": 32,
   "metadata": {},
   "outputs": [],
   "source": [
    "####rent\n",
    "\n",
    "rent['rent_avg_201409_201508'] = rent.loc[:, '2014-09':'2015-08'].mean(axis=1)\n",
    "rent['rent_avg_201509_201608'] = rent.loc[:, '2015-09':'2016-08'].mean(axis=1)\n",
    "rent['rent_avg_201609_201708'] = rent.loc[:, '2016-09':'2017-08'].mean(axis=1)\n",
    "rent['rent_avg_201709_201808'] = rent.loc[:, '2017-09':'2018-08'].mean(axis=1)\n",
    "\n",
    "rent['rent_yoy_gr_2014_2016'] = (rent.rent_avg_201509_201608 - rent.rent_avg_201409_201508) / rent.rent_avg_201409_201508\n",
    "rent['rent_yoy_gr_2015_2017'] = (rent.rent_avg_201609_201708 - rent.rent_avg_201509_201608) / rent.rent_avg_201509_201608\n",
    "rent['rent_yoy_gr_2016_2018'] = (rent.rent_avg_201709_201808 - rent.rent_avg_201609_201708) / rent.rent_avg_201609_201708\n",
    "\n",
    "rent['rent_3yravg_yoy_gr_2014_2018'] = (rent.rent_yoy_gr_2014_2016 + rent.rent_yoy_gr_2015_2017 + rent.rent_yoy_gr_2016_2018) / 3"
   ]
  },
  {
   "cell_type": "code",
   "execution_count": 33,
   "metadata": {},
   "outputs": [],
   "source": [
    "####cut down rent dataframe to columns: RegionID, RegionName, State, SizeRank, rent_avg_201709_201808,\n",
    "####rent_3yravg_2015_2018. This is the largest dataframe so it is first and contains all of the other columns\n",
    "\n",
    "rent = rent[['RegionID', 'RegionName', 'State', 'SizeRank', 'rent_yoy_gr_2016_2018', 'rent_3yravg_yoy_gr_2014_2018']]"
   ]
  },
  {
   "cell_type": "code",
   "execution_count": 35,
   "metadata": {},
   "outputs": [],
   "source": [
    "####Join all on RegionID\n",
    "\n",
    "zillow = rent.merge(value, on='RegionID', how='inner').merge(price_to_rent, on='RegionID', how='inner').merge(pct_reduced, on='RegionID', how='inner').merge(sale_price, on='RegionID', how='inner')"
   ]
  },
  {
   "cell_type": "code",
   "execution_count": 36,
   "metadata": {},
   "outputs": [
    {
     "name": "stdout",
     "output_type": "stream",
     "text": [
      "<class 'pandas.core.frame.DataFrame'>\n",
      "Int64Index: 3454 entries, 0 to 3453\n",
      "Data columns (total 14 columns):\n",
      "RegionID                               3454 non-null int64\n",
      "RegionName                             3454 non-null int64\n",
      "State                                  3454 non-null object\n",
      "SizeRank                               3454 non-null int64\n",
      "rent_yoy_gr_2016_2018                  3454 non-null float64\n",
      "rent_3yravg_yoy_gr_2014_2018           3453 non-null float64\n",
      "value_yoy_gr_2016_2018                 3454 non-null float64\n",
      "value_3yravg_yoy_gr_2014_2018          3454 non-null float64\n",
      "price_to_rent_avg_201709_201808        3454 non-null float64\n",
      "price_to_rent_3yravg_2015_2018         3453 non-null float64\n",
      "pct_reduced_yoy_gr_2016_2018           3454 non-null float64\n",
      "pct_reduced_3yravg_yoy_gr_2014_2018    3454 non-null float64\n",
      "sale_price_yoy_gr_2016_2018            3454 non-null float64\n",
      "sale_price_3yravg_yoy_gr_2014_2018     3068 non-null float64\n",
      "dtypes: float64(10), int64(3), object(1)\n",
      "memory usage: 404.8+ KB\n"
     ]
    },
    {
     "data": {
      "text/plain": [
       "RegionID                                 0\n",
       "RegionName                               0\n",
       "State                                    0\n",
       "SizeRank                                 0\n",
       "rent_yoy_gr_2016_2018                    0\n",
       "rent_3yravg_yoy_gr_2014_2018             1\n",
       "value_yoy_gr_2016_2018                   0\n",
       "value_3yravg_yoy_gr_2014_2018            0\n",
       "price_to_rent_avg_201709_201808          0\n",
       "price_to_rent_3yravg_2015_2018           1\n",
       "pct_reduced_yoy_gr_2016_2018             0\n",
       "pct_reduced_3yravg_yoy_gr_2014_2018      0\n",
       "sale_price_yoy_gr_2016_2018              0\n",
       "sale_price_3yravg_yoy_gr_2014_2018     386\n",
       "dtype: int64"
      ]
     },
     "execution_count": 36,
     "metadata": {},
     "output_type": "execute_result"
    }
   ],
   "source": [
    "zillow.info()\n",
    "\n",
    "zillow.isna().sum()"
   ]
  },
  {
   "cell_type": "code",
   "execution_count": 37,
   "metadata": {},
   "outputs": [
    {
     "data": {
      "text/plain": [
       "(3454, 14)"
      ]
     },
     "execution_count": 37,
     "metadata": {},
     "output_type": "execute_result"
    }
   ],
   "source": [
    "zillow.shape"
   ]
  },
  {
   "cell_type": "code",
   "execution_count": 38,
   "metadata": {},
   "outputs": [],
   "source": [
    "####ptrg: price_to_rent needs to be joined with rent on RegionID to determine the 1yr and 3yr ptrg \n",
    "####ratios ('Price to Rental Growth').\n",
    "####the ptrg_1yr is found by dividing price_to_rent_avg_201709_201808 by (rent_yoy_gr_2016_2018 * 100)\n",
    "####the ptrg_3yr is found by dividing price_to_rent_avg_201709_201808 by (rent_3yravg_yoy_gr_2014_2018 * 100)\n",
    "\n",
    "zillow['ptrg_1yr_201709_201808'] = zillow.price_to_rent_avg_201709_201808 / (zillow.rent_yoy_gr_2016_2018 * 100)\n",
    "zillow['ptrg_3yr_2014_2018'] = zillow.price_to_rent_avg_201709_201808 / (zillow.rent_3yravg_yoy_gr_2014_2018 * 100)"
   ]
  },
  {
   "cell_type": "code",
   "execution_count": 39,
   "metadata": {},
   "outputs": [
    {
     "data": {
      "text/plain": [
       "(3454, 16)"
      ]
     },
     "execution_count": 39,
     "metadata": {},
     "output_type": "execute_result"
    }
   ],
   "source": [
    "zillow.shape"
   ]
  },
  {
   "cell_type": "code",
   "execution_count": 40,
   "metadata": {},
   "outputs": [],
   "source": [
    "zillow = zillow.dropna()"
   ]
  },
  {
   "cell_type": "code",
   "execution_count": 41,
   "metadata": {},
   "outputs": [
    {
     "data": {
      "text/plain": [
       "(3066, 16)"
      ]
     },
     "execution_count": 41,
     "metadata": {},
     "output_type": "execute_result"
    }
   ],
   "source": [
    "zillow.shape"
   ]
  },
  {
   "cell_type": "code",
   "execution_count": 42,
   "metadata": {},
   "outputs": [
    {
     "name": "stdout",
     "output_type": "stream",
     "text": [
      "<class 'pandas.core.frame.DataFrame'>\n",
      "Int64Index: 3066 entries, 0 to 3453\n",
      "Data columns (total 16 columns):\n",
      "RegionID                               3066 non-null int64\n",
      "RegionName                             3066 non-null int64\n",
      "State                                  3066 non-null object\n",
      "SizeRank                               3066 non-null int64\n",
      "rent_yoy_gr_2016_2018                  3066 non-null float64\n",
      "rent_3yravg_yoy_gr_2014_2018           3066 non-null float64\n",
      "value_yoy_gr_2016_2018                 3066 non-null float64\n",
      "value_3yravg_yoy_gr_2014_2018          3066 non-null float64\n",
      "price_to_rent_avg_201709_201808        3066 non-null float64\n",
      "price_to_rent_3yravg_2015_2018         3066 non-null float64\n",
      "pct_reduced_yoy_gr_2016_2018           3066 non-null float64\n",
      "pct_reduced_3yravg_yoy_gr_2014_2018    3066 non-null float64\n",
      "sale_price_yoy_gr_2016_2018            3066 non-null float64\n",
      "sale_price_3yravg_yoy_gr_2014_2018     3066 non-null float64\n",
      "ptrg_1yr_201709_201808                 3066 non-null float64\n",
      "ptrg_3yr_2014_2018                     3066 non-null float64\n",
      "dtypes: float64(12), int64(3), object(1)\n",
      "memory usage: 407.2+ KB\n"
     ]
    },
    {
     "data": {
      "text/plain": [
       "RegionID                               0\n",
       "RegionName                             0\n",
       "State                                  0\n",
       "SizeRank                               0\n",
       "rent_yoy_gr_2016_2018                  0\n",
       "rent_3yravg_yoy_gr_2014_2018           0\n",
       "value_yoy_gr_2016_2018                 0\n",
       "value_3yravg_yoy_gr_2014_2018          0\n",
       "price_to_rent_avg_201709_201808        0\n",
       "price_to_rent_3yravg_2015_2018         0\n",
       "pct_reduced_yoy_gr_2016_2018           0\n",
       "pct_reduced_3yravg_yoy_gr_2014_2018    0\n",
       "sale_price_yoy_gr_2016_2018            0\n",
       "sale_price_3yravg_yoy_gr_2014_2018     0\n",
       "ptrg_1yr_201709_201808                 0\n",
       "ptrg_3yr_2014_2018                     0\n",
       "dtype: int64"
      ]
     },
     "execution_count": 42,
     "metadata": {},
     "output_type": "execute_result"
    }
   ],
   "source": [
    "zillow.info()\n",
    "\n",
    "zillow.isna().sum()"
   ]
  },
  {
   "cell_type": "code",
   "execution_count": 43,
   "metadata": {},
   "outputs": [],
   "source": [
    "zillow.to_csv('data/zillow_201808_current_calcs.csv', index = False)"
   ]
  },
  {
   "cell_type": "code",
   "execution_count": 44,
   "metadata": {},
   "outputs": [
    {
     "data": {
      "text/html": [
       "<div>\n",
       "<style scoped>\n",
       "    .dataframe tbody tr th:only-of-type {\n",
       "        vertical-align: middle;\n",
       "    }\n",
       "\n",
       "    .dataframe tbody tr th {\n",
       "        vertical-align: top;\n",
       "    }\n",
       "\n",
       "    .dataframe thead th {\n",
       "        text-align: right;\n",
       "    }\n",
       "</style>\n",
       "<table border=\"1\" class=\"dataframe\">\n",
       "  <thead>\n",
       "    <tr style=\"text-align: right;\">\n",
       "      <th></th>\n",
       "      <th>count</th>\n",
       "      <th>mean</th>\n",
       "      <th>std</th>\n",
       "      <th>min</th>\n",
       "      <th>25%</th>\n",
       "      <th>50%</th>\n",
       "      <th>75%</th>\n",
       "      <th>max</th>\n",
       "    </tr>\n",
       "  </thead>\n",
       "  <tbody>\n",
       "    <tr>\n",
       "      <th>RegionID</th>\n",
       "      <td>3066.0</td>\n",
       "      <td>8.734203e+04</td>\n",
       "      <td>45967.992052</td>\n",
       "      <td>58196.000000</td>\n",
       "      <td>70832.000000</td>\n",
       "      <td>82227.000000</td>\n",
       "      <td>95803.750000</td>\n",
       "      <td>7.380920e+05</td>\n",
       "    </tr>\n",
       "    <tr>\n",
       "      <th>RegionName</th>\n",
       "      <td>3066.0</td>\n",
       "      <td>5.503260e+04</td>\n",
       "      <td>31111.273421</td>\n",
       "      <td>1001.000000</td>\n",
       "      <td>30044.250000</td>\n",
       "      <td>55127.000000</td>\n",
       "      <td>85381.750000</td>\n",
       "      <td>9.922400e+04</td>\n",
       "    </tr>\n",
       "    <tr>\n",
       "      <th>SizeRank</th>\n",
       "      <td>3066.0</td>\n",
       "      <td>3.523220e+03</td>\n",
       "      <td>2362.344763</td>\n",
       "      <td>2.000000</td>\n",
       "      <td>1514.750000</td>\n",
       "      <td>3212.500000</td>\n",
       "      <td>5228.000000</td>\n",
       "      <td>1.037700e+04</td>\n",
       "    </tr>\n",
       "    <tr>\n",
       "      <th>rent_yoy_gr_2016_2018</th>\n",
       "      <td>3066.0</td>\n",
       "      <td>2.131993e-02</td>\n",
       "      <td>0.027422</td>\n",
       "      <td>-0.132818</td>\n",
       "      <td>0.004905</td>\n",
       "      <td>0.021095</td>\n",
       "      <td>0.037675</td>\n",
       "      <td>1.345813e-01</td>\n",
       "    </tr>\n",
       "    <tr>\n",
       "      <th>rent_3yravg_yoy_gr_2014_2018</th>\n",
       "      <td>3066.0</td>\n",
       "      <td>2.977617e-02</td>\n",
       "      <td>0.021834</td>\n",
       "      <td>-0.051177</td>\n",
       "      <td>0.014155</td>\n",
       "      <td>0.029642</td>\n",
       "      <td>0.044632</td>\n",
       "      <td>1.302033e-01</td>\n",
       "    </tr>\n",
       "    <tr>\n",
       "      <th>value_yoy_gr_2016_2018</th>\n",
       "      <td>3066.0</td>\n",
       "      <td>7.302886e-02</td>\n",
       "      <td>0.039132</td>\n",
       "      <td>-0.057848</td>\n",
       "      <td>0.048206</td>\n",
       "      <td>0.068455</td>\n",
       "      <td>0.092681</td>\n",
       "      <td>3.671295e-01</td>\n",
       "    </tr>\n",
       "    <tr>\n",
       "      <th>value_3yravg_yoy_gr_2014_2018</th>\n",
       "      <td>3066.0</td>\n",
       "      <td>7.486963e-02</td>\n",
       "      <td>0.036391</td>\n",
       "      <td>-0.017420</td>\n",
       "      <td>0.049254</td>\n",
       "      <td>0.069974</td>\n",
       "      <td>0.095792</td>\n",
       "      <td>2.618728e-01</td>\n",
       "    </tr>\n",
       "    <tr>\n",
       "      <th>price_to_rent_avg_201709_201808</th>\n",
       "      <td>3066.0</td>\n",
       "      <td>1.412270e+01</td>\n",
       "      <td>3.687151</td>\n",
       "      <td>5.170000</td>\n",
       "      <td>11.535000</td>\n",
       "      <td>13.335833</td>\n",
       "      <td>16.085417</td>\n",
       "      <td>3.981417e+01</td>\n",
       "    </tr>\n",
       "    <tr>\n",
       "      <th>price_to_rent_3yravg_2015_2018</th>\n",
       "      <td>3066.0</td>\n",
       "      <td>1.343602e+01</td>\n",
       "      <td>3.453701</td>\n",
       "      <td>4.678889</td>\n",
       "      <td>10.938958</td>\n",
       "      <td>12.736806</td>\n",
       "      <td>15.359444</td>\n",
       "      <td>3.526889e+01</td>\n",
       "    </tr>\n",
       "    <tr>\n",
       "      <th>pct_reduced_yoy_gr_2016_2018</th>\n",
       "      <td>3066.0</td>\n",
       "      <td>8.819084e-02</td>\n",
       "      <td>0.214925</td>\n",
       "      <td>-0.476415</td>\n",
       "      <td>-0.048164</td>\n",
       "      <td>0.047143</td>\n",
       "      <td>0.185793</td>\n",
       "      <td>1.552554e+00</td>\n",
       "    </tr>\n",
       "    <tr>\n",
       "      <th>pct_reduced_3yravg_yoy_gr_2014_2018</th>\n",
       "      <td>3066.0</td>\n",
       "      <td>9.597202e-03</td>\n",
       "      <td>0.080347</td>\n",
       "      <td>-0.286550</td>\n",
       "      <td>-0.043885</td>\n",
       "      <td>0.002848</td>\n",
       "      <td>0.051662</td>\n",
       "      <td>4.793533e-01</td>\n",
       "    </tr>\n",
       "    <tr>\n",
       "      <th>sale_price_yoy_gr_2016_2018</th>\n",
       "      <td>3066.0</td>\n",
       "      <td>7.854326e-02</td>\n",
       "      <td>0.056729</td>\n",
       "      <td>-0.179230</td>\n",
       "      <td>0.043555</td>\n",
       "      <td>0.078255</td>\n",
       "      <td>0.110998</td>\n",
       "      <td>3.706825e-01</td>\n",
       "    </tr>\n",
       "    <tr>\n",
       "      <th>sale_price_3yravg_yoy_gr_2014_2018</th>\n",
       "      <td>3066.0</td>\n",
       "      <td>7.264739e-02</td>\n",
       "      <td>0.040173</td>\n",
       "      <td>-0.063061</td>\n",
       "      <td>0.045868</td>\n",
       "      <td>0.069369</td>\n",
       "      <td>0.097081</td>\n",
       "      <td>3.589190e-01</td>\n",
       "    </tr>\n",
       "    <tr>\n",
       "      <th>ptrg_1yr_201709_201808</th>\n",
       "      <td>3066.0</td>\n",
       "      <td>inf</td>\n",
       "      <td>NaN</td>\n",
       "      <td>-4762.773600</td>\n",
       "      <td>2.169088</td>\n",
       "      <td>4.227342</td>\n",
       "      <td>7.981730</td>\n",
       "      <td>inf</td>\n",
       "    </tr>\n",
       "    <tr>\n",
       "      <th>ptrg_3yr_2014_2018</th>\n",
       "      <td>3066.0</td>\n",
       "      <td>-1.397141e+00</td>\n",
       "      <td>194.693103</td>\n",
       "      <td>-8273.331813</td>\n",
       "      <td>2.887756</td>\n",
       "      <td>4.214157</td>\n",
       "      <td>6.733804</td>\n",
       "      <td>1.967332e+03</td>\n",
       "    </tr>\n",
       "  </tbody>\n",
       "</table>\n",
       "</div>"
      ],
      "text/plain": [
       "                                      count          mean           std  \\\n",
       "RegionID                             3066.0  8.734203e+04  45967.992052   \n",
       "RegionName                           3066.0  5.503260e+04  31111.273421   \n",
       "SizeRank                             3066.0  3.523220e+03   2362.344763   \n",
       "rent_yoy_gr_2016_2018                3066.0  2.131993e-02      0.027422   \n",
       "rent_3yravg_yoy_gr_2014_2018         3066.0  2.977617e-02      0.021834   \n",
       "value_yoy_gr_2016_2018               3066.0  7.302886e-02      0.039132   \n",
       "value_3yravg_yoy_gr_2014_2018        3066.0  7.486963e-02      0.036391   \n",
       "price_to_rent_avg_201709_201808      3066.0  1.412270e+01      3.687151   \n",
       "price_to_rent_3yravg_2015_2018       3066.0  1.343602e+01      3.453701   \n",
       "pct_reduced_yoy_gr_2016_2018         3066.0  8.819084e-02      0.214925   \n",
       "pct_reduced_3yravg_yoy_gr_2014_2018  3066.0  9.597202e-03      0.080347   \n",
       "sale_price_yoy_gr_2016_2018          3066.0  7.854326e-02      0.056729   \n",
       "sale_price_3yravg_yoy_gr_2014_2018   3066.0  7.264739e-02      0.040173   \n",
       "ptrg_1yr_201709_201808               3066.0           inf           NaN   \n",
       "ptrg_3yr_2014_2018                   3066.0 -1.397141e+00    194.693103   \n",
       "\n",
       "                                              min           25%           50%  \\\n",
       "RegionID                             58196.000000  70832.000000  82227.000000   \n",
       "RegionName                            1001.000000  30044.250000  55127.000000   \n",
       "SizeRank                                 2.000000   1514.750000   3212.500000   \n",
       "rent_yoy_gr_2016_2018                   -0.132818      0.004905      0.021095   \n",
       "rent_3yravg_yoy_gr_2014_2018            -0.051177      0.014155      0.029642   \n",
       "value_yoy_gr_2016_2018                  -0.057848      0.048206      0.068455   \n",
       "value_3yravg_yoy_gr_2014_2018           -0.017420      0.049254      0.069974   \n",
       "price_to_rent_avg_201709_201808          5.170000     11.535000     13.335833   \n",
       "price_to_rent_3yravg_2015_2018           4.678889     10.938958     12.736806   \n",
       "pct_reduced_yoy_gr_2016_2018            -0.476415     -0.048164      0.047143   \n",
       "pct_reduced_3yravg_yoy_gr_2014_2018     -0.286550     -0.043885      0.002848   \n",
       "sale_price_yoy_gr_2016_2018             -0.179230      0.043555      0.078255   \n",
       "sale_price_3yravg_yoy_gr_2014_2018      -0.063061      0.045868      0.069369   \n",
       "ptrg_1yr_201709_201808               -4762.773600      2.169088      4.227342   \n",
       "ptrg_3yr_2014_2018                   -8273.331813      2.887756      4.214157   \n",
       "\n",
       "                                              75%           max  \n",
       "RegionID                             95803.750000  7.380920e+05  \n",
       "RegionName                           85381.750000  9.922400e+04  \n",
       "SizeRank                              5228.000000  1.037700e+04  \n",
       "rent_yoy_gr_2016_2018                    0.037675  1.345813e-01  \n",
       "rent_3yravg_yoy_gr_2014_2018             0.044632  1.302033e-01  \n",
       "value_yoy_gr_2016_2018                   0.092681  3.671295e-01  \n",
       "value_3yravg_yoy_gr_2014_2018            0.095792  2.618728e-01  \n",
       "price_to_rent_avg_201709_201808         16.085417  3.981417e+01  \n",
       "price_to_rent_3yravg_2015_2018          15.359444  3.526889e+01  \n",
       "pct_reduced_yoy_gr_2016_2018             0.185793  1.552554e+00  \n",
       "pct_reduced_3yravg_yoy_gr_2014_2018      0.051662  4.793533e-01  \n",
       "sale_price_yoy_gr_2016_2018              0.110998  3.706825e-01  \n",
       "sale_price_3yravg_yoy_gr_2014_2018       0.097081  3.589190e-01  \n",
       "ptrg_1yr_201709_201808                   7.981730           inf  \n",
       "ptrg_3yr_2014_2018                       6.733804  1.967332e+03  "
      ]
     },
     "execution_count": 44,
     "metadata": {},
     "output_type": "execute_result"
    }
   ],
   "source": [
    "zillow.describe().T"
   ]
  },
  {
   "cell_type": "code",
   "execution_count": null,
   "metadata": {},
   "outputs": [],
   "source": []
  }
 ],
 "metadata": {
  "kernelspec": {
   "display_name": "Python 3",
   "language": "python",
   "name": "python3"
  },
  "language_info": {
   "codemirror_mode": {
    "name": "ipython",
    "version": 3
   },
   "file_extension": ".py",
   "mimetype": "text/x-python",
   "name": "python",
   "nbconvert_exporter": "python",
   "pygments_lexer": "ipython3",
   "version": "3.6.5"
  }
 },
 "nbformat": 4,
 "nbformat_minor": 2
}
