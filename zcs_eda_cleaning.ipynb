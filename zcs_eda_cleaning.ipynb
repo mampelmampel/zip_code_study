{
 "cells": [
  {
   "cell_type": "code",
   "execution_count": 25,
   "metadata": {},
   "outputs": [],
   "source": [
    "import pandas as pd\n",
    "import numpy as np\n",
    "import seaborn as sns\n",
    "import matplotlib.pyplot as plt\n",
    "%matplotlib inline\n",
    "\n",
    "sale_price = pd.read_csv('data/Sale_Prices_Zip.csv')\n",
    "sale_count = pd.read_csv('data/Sale_Counts_Zip.csv')\n",
    "turnover = pd.read_csv('data/MonthlyTurnover_Zip.csv')\n",
    "pct_reduced = pd.read_csv('data/Zip_PctOfListingsWithPriceReductions_AllHomes.csv')\n",
    "rent = pd.read_csv('data/Zip_Zri_AllHomes.csv')\n",
    "price_to_rent = pd.read_csv('data/Zip_PriceToRentRatio_AllHomes.csv')\n",
    "value = pd.read_csv('data/Zip_Zhvi_AllHomes.csv')"
   ]
  },
  {
   "cell_type": "code",
   "execution_count": 26,
   "metadata": {},
   "outputs": [],
   "source": [
    "####Standarize states when necessary - from full names to 2 letter abbrevs. Change \"StateNames\" column headers to \"State\"\n",
    "\n",
    "state_abbrev = {\n",
    "    'Alabama': 'AL',\n",
    "    'Alaska': 'AK',\n",
    "    'Arizona': 'AZ',\n",
    "    'Arkansas': 'AR',\n",
    "    'California': 'CA',\n",
    "    'Colorado': 'CO',\n",
    "    'Connecticut': 'CT',\n",
    "    'Delaware': 'DE',\n",
    "    'District of Columbia': 'DC',\n",
    "    'Florida': 'FL',\n",
    "    'Georgia': 'GA',\n",
    "    'Hawaii': 'HI',\n",
    "    'Idaho': 'ID',\n",
    "    'Illinois': 'IL',\n",
    "    'Indiana': 'IN',\n",
    "    'Iowa': 'IA',\n",
    "    'Kansas': 'KS',\n",
    "    'Kentucky': 'KY',\n",
    "    'Louisiana': 'LA',\n",
    "    'Maine': 'ME',\n",
    "    'Maryland': 'MD',\n",
    "    'Massachusetts': 'MA',\n",
    "    'Michigan': 'MI',\n",
    "    'Minnesota': 'MN',\n",
    "    'Mississippi': 'MS',\n",
    "    'Missouri': 'MO',\n",
    "    'Montana': 'MT',\n",
    "    'Nebraska': 'NE',\n",
    "    'Nevada': 'NV',\n",
    "    'New Hampshire': 'NH',\n",
    "    'New Jersey': 'NJ',\n",
    "    'New Mexico': 'NM',\n",
    "    'New York': 'NY',\n",
    "    'North Carolina': 'NC',\n",
    "    'North Dakota': 'ND',\n",
    "    'Ohio': 'OH',\n",
    "    'Oklahoma': 'OK',\n",
    "    'Oregon': 'OR',\n",
    "    'Pennsylvania': 'PA',\n",
    "    'Rhode Island': 'RI',\n",
    "    'South Carolina': 'SC',\n",
    "    'South Dakota': 'SD',\n",
    "    'Tennessee': 'TN',\n",
    "    'Texas': 'TX',\n",
    "    'Utah': 'UT',\n",
    "    'Vermont': 'VT',\n",
    "    'Virginia': 'VA',\n",
    "    'Washington': 'WA',\n",
    "    'West Virginia': 'WV',\n",
    "    'Wisconsin': 'WI',\n",
    "    'Wyoming': 'WY',\n",
    "}\n",
    "\n",
    "\n",
    "sale_price['StateName'].replace(state_abbrev, inplace=True)\n",
    "sale_price.rename(columns={'StateName':'State'}, inplace=True)\n",
    "\n",
    "sale_count['StateName'].replace(state_abbrev, inplace=True)\n",
    "sale_count.rename(columns={'StateName':'State'}, inplace=True)\n",
    "\n",
    "turnover['StateName'].replace(state_abbrev, inplace=True)\n",
    "turnover.rename(columns={'StateName':'State'}, inplace=True)"
   ]
  },
  {
   "cell_type": "code",
   "execution_count": 27,
   "metadata": {},
   "outputs": [],
   "source": [
    "####Prep data frames to be merged for analysis and modeling: find annual averages, annual avg growth \n",
    "####rates, 3 year avg yoy growth rates"
   ]
  },
  {
   "cell_type": "code",
   "execution_count": 28,
   "metadata": {},
   "outputs": [],
   "source": [
    "####sale_price\n",
    "\n",
    "sale_price['sale_price_avg_201309_201408'] = sale_price.loc[:, '2013-09':'2014-08'].mean(axis=1)\n",
    "sale_price['sale_price_avg_201409_201508'] = sale_price.loc[:, '2014-09':'2015-08'].mean(axis=1)\n",
    "sale_price['sale_price_avg_201509_201608'] = sale_price.loc[:, '2015-09':'2016-08'].mean(axis=1)\n",
    "sale_price['sale_price_avg_201609_201708'] = sale_price.loc[:, '2016-09':'2017-08'].mean(axis=1)\n",
    "\n",
    "sale_price['sale_price_yoy_gr_2013_2015'] = (sale_price.sale_price_avg_201409_201508 - sale_price.sale_price_avg_201309_201408) / sale_price.sale_price_avg_201309_201408\n",
    "sale_price['sale_price_yoy_gr_2014_2016'] = (sale_price.sale_price_avg_201509_201608 - sale_price.sale_price_avg_201409_201508) / sale_price.sale_price_avg_201409_201508\n",
    "sale_price['sale_price_yoy_gr_2015_2017'] = (sale_price.sale_price_avg_201609_201708 - sale_price.sale_price_avg_201509_201608) / sale_price.sale_price_avg_201509_201608\n",
    "\n",
    "sale_price['sale_price_3yravg_yoy_gr_2013_2017'] = (sale_price.sale_price_yoy_gr_2013_2015 + sale_price.sale_price_yoy_gr_2014_2016 + sale_price.sale_price_yoy_gr_2015_2017) / 3"
   ]
  },
  {
   "cell_type": "code",
   "execution_count": 29,
   "metadata": {},
   "outputs": [],
   "source": [
    "####sale_count\n",
    "\n",
    "sale_count['sale_count_avg_201309_201408'] = sale_count.loc[:, '2013-09':'2014-08'].mean(axis=1)\n",
    "sale_count['sale_count_avg_201409_201508'] = sale_count.loc[:, '2014-09':'2015-08'].mean(axis=1)\n",
    "sale_count['sale_count_avg_201509_201608'] = sale_count.loc[:, '2015-09':'2016-08'].mean(axis=1)\n",
    "sale_count['sale_count_avg_201609_201708'] = sale_count.loc[:, '2016-09':'2017-08'].mean(axis=1)\n",
    "\n",
    "sale_count['sale_count_yoy_gr_2013_2015'] = (sale_count.sale_count_avg_201409_201508 - sale_count.sale_count_avg_201309_201408) / sale_count.sale_count_avg_201309_201408\n",
    "sale_count['sale_count_yoy_gr_2014_2016'] = (sale_count.sale_count_avg_201509_201608 - sale_count.sale_count_avg_201409_201508) / sale_count.sale_count_avg_201409_201508\n",
    "sale_count['sale_count_yoy_gr_2015_2017'] = (sale_count.sale_count_avg_201609_201708 - sale_count.sale_count_avg_201509_201608) / sale_count.sale_count_avg_201509_201608\n",
    "\n",
    "sale_count['sale_count_3yravg_yoy_gr_2013_2017'] = (sale_count.sale_count_yoy_gr_2013_2015 + sale_count.sale_count_yoy_gr_2014_2016 + sale_count.sale_count_yoy_gr_2015_2017) / 3"
   ]
  },
  {
   "cell_type": "code",
   "execution_count": 30,
   "metadata": {},
   "outputs": [],
   "source": [
    "####turnover\n",
    "\n",
    "turnover['turnover_avg_201309_201408'] = turnover.loc[:, '2013-09':'2014-08'].mean(axis=1)\n",
    "turnover['turnover_avg_201409_201508'] = turnover.loc[:, '2014-09':'2015-08'].mean(axis=1)\n",
    "turnover['turnover_avg_201509_201608'] = turnover.loc[:, '2015-09':'2016-08'].mean(axis=1)\n",
    "turnover['turnover_avg_201609_201708'] = turnover.loc[:, '2016-09':'2017-08'].mean(axis=1)\n",
    "\n",
    "turnover['turnover_yoy_gr_2013_2015'] = (turnover.turnover_avg_201409_201508 - turnover.turnover_avg_201309_201408) / turnover.turnover_avg_201309_201408\n",
    "turnover['turnover_yoy_gr_2014_2016'] = (turnover.turnover_avg_201509_201608 - turnover.turnover_avg_201409_201508) / turnover.turnover_avg_201409_201508\n",
    "turnover['turnover_yoy_gr_2015_2017'] = (turnover.turnover_avg_201609_201708 - turnover.turnover_avg_201509_201608) / turnover.turnover_avg_201509_201608\n",
    "\n",
    "turnover['turnover_3yravg_yoy_gr_2013_2017'] = (turnover.turnover_yoy_gr_2013_2015 + turnover.turnover_yoy_gr_2014_2016 + turnover.turnover_yoy_gr_2015_2017) / 3"
   ]
  },
  {
   "cell_type": "code",
   "execution_count": 31,
   "metadata": {},
   "outputs": [],
   "source": [
    "####pct_reduced\n",
    "\n",
    "pct_reduced['pct_reduced_avg_201309_201408'] = pct_reduced.loc[:, '2013-09':'2014-08'].mean(axis=1)\n",
    "pct_reduced['pct_reduced_avg_201409_201508'] = pct_reduced.loc[:, '2014-09':'2015-08'].mean(axis=1)\n",
    "pct_reduced['pct_reduced_avg_201509_201608'] = pct_reduced.loc[:, '2015-09':'2016-08'].mean(axis=1)\n",
    "pct_reduced['pct_reduced_avg_201609_201708'] = pct_reduced.loc[:, '2016-09':'2017-08'].mean(axis=1)\n",
    "\n",
    "pct_reduced['pct_reduced_yoy_gr_2013_2015'] = (pct_reduced.pct_reduced_avg_201409_201508 - pct_reduced.pct_reduced_avg_201309_201408) / pct_reduced.pct_reduced_avg_201309_201408\n",
    "pct_reduced['pct_reduced_yoy_gr_2014_2016'] = (pct_reduced.pct_reduced_avg_201509_201608 - pct_reduced.pct_reduced_avg_201409_201508) / pct_reduced.pct_reduced_avg_201409_201508\n",
    "pct_reduced['pct_reduced_yoy_gr_2015_2017'] = (pct_reduced.pct_reduced_avg_201609_201708 - pct_reduced.pct_reduced_avg_201509_201608) / pct_reduced.pct_reduced_avg_201509_201608\n",
    "\n",
    "pct_reduced['pct_reduced_3yravg_yoy_gr_2013_2017'] = (pct_reduced.pct_reduced_yoy_gr_2013_2015 + pct_reduced.pct_reduced_yoy_gr_2014_2016 + pct_reduced.pct_reduced_yoy_gr_2015_2017) / 3"
   ]
  },
  {
   "cell_type": "code",
   "execution_count": 32,
   "metadata": {},
   "outputs": [],
   "source": [
    "####rent\n",
    "\n",
    "rent['rent_avg_201309_201408'] = rent.loc[:, '2013-09':'2014-08'].mean(axis=1)\n",
    "rent['rent_avg_201409_201508'] = rent.loc[:, '2014-09':'2015-08'].mean(axis=1)\n",
    "rent['rent_avg_201509_201608'] = rent.loc[:, '2015-09':'2016-08'].mean(axis=1)\n",
    "rent['rent_avg_201609_201708'] = rent.loc[:, '2016-09':'2017-08'].mean(axis=1)\n",
    "\n",
    "rent['rent_yoy_gr_2013_2015'] = (rent.rent_avg_201409_201508 - rent.rent_avg_201309_201408) / rent.rent_avg_201309_201408\n",
    "rent['rent_yoy_gr_2014_2016'] = (rent.rent_avg_201509_201608 - rent.rent_avg_201409_201508) / rent.rent_avg_201409_201508\n",
    "rent['rent_yoy_gr_2015_2017'] = (rent.rent_avg_201609_201708 - rent.rent_avg_201509_201608) / rent.rent_avg_201509_201608\n",
    "\n",
    "rent['rent_3yravg_yoy_gr_2013_2017'] = (rent.rent_yoy_gr_2013_2015 + rent.rent_yoy_gr_2014_2016 + rent.rent_yoy_gr_2015_2017) / 3"
   ]
  },
  {
   "cell_type": "code",
   "execution_count": 33,
   "metadata": {},
   "outputs": [],
   "source": [
    "####cut down GR dataframes to columns: RegionID, yoy_gr_2015_2017, and 3yravg_yoy_gr_2013_2017\n",
    "\n",
    "sale_price = sale_price[['RegionID', 'sale_price_yoy_gr_2015_2017', 'sale_price_3yravg_yoy_gr_2013_2017']]\n",
    "sale_count = sale_count[['RegionID', 'sale_count_yoy_gr_2015_2017', 'sale_count_3yravg_yoy_gr_2013_2017']]\n",
    "turnover = turnover[['RegionID', 'turnover_yoy_gr_2015_2017', 'turnover_3yravg_yoy_gr_2013_2017']]\n",
    "pct_reduced = pct_reduced[['RegionID', 'pct_reduced_yoy_gr_2015_2017', 'pct_reduced_3yravg_yoy_gr_2013_2017']]\n",
    "rent = rent[['RegionID', 'rent_yoy_gr_2015_2017', 'rent_3yravg_yoy_gr_2013_2017']]"
   ]
  },
  {
   "cell_type": "code",
   "execution_count": 34,
   "metadata": {},
   "outputs": [],
   "source": [
    "####price_to_rent dataframe: only need to find 1yr avg and 3yr avg\n",
    "\n",
    "price_to_rent['price_to_rent_avg_201409_201508'] = price_to_rent.loc[:, '2014-09':'2015-08'].mean(axis=1)\n",
    "price_to_rent['price_to_rent_avg_201509_201608'] = price_to_rent.loc[:, '2015-09':'2016-08'].mean(axis=1)\n",
    "price_to_rent['price_to_rent_avg_201609_201708'] = price_to_rent.loc[:, '2016-09':'2017-08'].mean(axis=1)\n",
    "\n",
    "price_to_rent['price_to_rent_3yravg_2014_2017'] = (price_to_rent.price_to_rent_avg_201409_201508 + price_to_rent.price_to_rent_avg_201509_201608 + price_to_rent.price_to_rent_avg_201609_201708) / 3"
   ]
  },
  {
   "cell_type": "code",
   "execution_count": 35,
   "metadata": {},
   "outputs": [],
   "source": [
    "####cut down price_to_rent dataframe to columns: RegionID, RegionName, State, SizeRank, price_to_rent_avg_201609_201708,\n",
    "####price_to_rent_3yravg_2014_2017. This is the largest dataframe so it is first and contains all of the other columns\n",
    "\n",
    "price_to_rent = price_to_rent[['RegionID', 'RegionName', 'State', 'SizeRank', 'price_to_rent_avg_201609_201708', 'price_to_rent_3yravg_2014_2017']]"
   ]
  },
  {
   "cell_type": "code",
   "execution_count": 37,
   "metadata": {},
   "outputs": [],
   "source": [
    "####value: only need current term GR, this is what I am trying to predict\n",
    "\n",
    "value['value_avg_201609_201708'] = value.loc[:, '2016-09':'2017-08'].mean(axis=1)\n",
    "value['value_avg_201709_201808'] = value.loc[:, '2017-09':'2018-08'].mean(axis=1)\n",
    "\n",
    "value['value_yoy_gr_2016_2018'] = (value.value_avg_201709_201808 - value.value_avg_201609_201708) / value.value_avg_201609_201708"
   ]
  },
  {
   "cell_type": "code",
   "execution_count": 38,
   "metadata": {},
   "outputs": [],
   "source": [
    "####cut down value GR dataframe to columns: RegionID, value_yoy_gr_2016_2018, this is y\n",
    "\n",
    "value = value[['RegionID', 'value_yoy_gr_2016_2018']]"
   ]
  },
  {
   "cell_type": "code",
   "execution_count": 39,
   "metadata": {},
   "outputs": [],
   "source": [
    "####Join all on RegionID\n",
    "\n",
    "zillow = price_to_rent.merge(value, on='RegionID', how='inner').merge(rent, on='RegionID', how='inner').merge(sale_count, on='RegionID', how='inner').merge(turnover, on='RegionID', how='inner').merge(pct_reduced, on='RegionID', how='inner').merge(sale_price, on='RegionID', how='inner')"
   ]
  },
  {
   "cell_type": "code",
   "execution_count": 42,
   "metadata": {},
   "outputs": [
    {
     "name": "stdout",
     "output_type": "stream",
     "text": [
      "<class 'pandas.core.frame.DataFrame'>\n",
      "Int64Index: 3439 entries, 0 to 3438\n",
      "Data columns (total 17 columns):\n",
      "RegionID                               3439 non-null int64\n",
      "RegionName                             3439 non-null int64\n",
      "State                                  3439 non-null object\n",
      "SizeRank                               3439 non-null int64\n",
      "price_to_rent_avg_201609_201708        3439 non-null float64\n",
      "price_to_rent_3yravg_2014_2017         3435 non-null float64\n",
      "value_yoy_gr_2016_2018                 3439 non-null float64\n",
      "rent_yoy_gr_2015_2017                  3439 non-null float64\n",
      "rent_3yravg_yoy_gr_2013_2017           3438 non-null float64\n",
      "sale_count_yoy_gr_2015_2017            3439 non-null float64\n",
      "sale_count_3yravg_yoy_gr_2013_2017     3302 non-null float64\n",
      "turnover_yoy_gr_2015_2017              3415 non-null float64\n",
      "turnover_3yravg_yoy_gr_2013_2017       1662 non-null float64\n",
      "pct_reduced_yoy_gr_2015_2017           3439 non-null float64\n",
      "pct_reduced_3yravg_yoy_gr_2013_2017    3439 non-null float64\n",
      "sale_price_yoy_gr_2015_2017            3439 non-null float64\n",
      "sale_price_3yravg_yoy_gr_2013_2017     2666 non-null float64\n",
      "dtypes: float64(13), int64(3), object(1)\n",
      "memory usage: 483.6+ KB\n"
     ]
    },
    {
     "data": {
      "text/plain": [
       "RegionID                                  0\n",
       "RegionName                                0\n",
       "State                                     0\n",
       "SizeRank                                  0\n",
       "price_to_rent_avg_201609_201708           0\n",
       "price_to_rent_3yravg_2014_2017            4\n",
       "value_yoy_gr_2016_2018                    0\n",
       "rent_yoy_gr_2015_2017                     0\n",
       "rent_3yravg_yoy_gr_2013_2017              1\n",
       "sale_count_yoy_gr_2015_2017               0\n",
       "sale_count_3yravg_yoy_gr_2013_2017      137\n",
       "turnover_yoy_gr_2015_2017                24\n",
       "turnover_3yravg_yoy_gr_2013_2017       1777\n",
       "pct_reduced_yoy_gr_2015_2017              0\n",
       "pct_reduced_3yravg_yoy_gr_2013_2017       0\n",
       "sale_price_yoy_gr_2015_2017               0\n",
       "sale_price_3yravg_yoy_gr_2013_2017      773\n",
       "dtype: int64"
      ]
     },
     "execution_count": 42,
     "metadata": {},
     "output_type": "execute_result"
    }
   ],
   "source": [
    "zillow.info()\n",
    "\n",
    "zillow.isna().sum()"
   ]
  },
  {
   "cell_type": "code",
   "execution_count": 43,
   "metadata": {},
   "outputs": [
    {
     "data": {
      "text/plain": [
       "(3439, 17)"
      ]
     },
     "execution_count": 43,
     "metadata": {},
     "output_type": "execute_result"
    }
   ],
   "source": [
    "zillow.shape"
   ]
  },
  {
   "cell_type": "code",
   "execution_count": 44,
   "metadata": {},
   "outputs": [],
   "source": [
    "####ptrg: price_to_rent needs to be joined with rent on RegionID to determine the 1yr and 3yr ptrg \n",
    "####ratios ('Price to Rental Growth').\n",
    "####the ptrg_1yr is found by dividing price_to_rent_avg_201609_201708 by (rent_yoy_gr_2015_2017 * 100)\n",
    "####the ptrg_3yr is found by dividing price_to_rent_avg_201609_201708 by (rent_3yravg_yoy_gr_2013_2017 * 100)\n",
    "\n",
    "zillow['ptrg_1yr_201609_201708'] = zillow.price_to_rent_avg_201609_201708 / (zillow.rent_yoy_gr_2015_2017 * 100)\n",
    "zillow['ptrg_3yr_2013_2017'] = zillow.price_to_rent_avg_201609_201708 / (zillow.rent_3yravg_yoy_gr_2013_2017 * 100)"
   ]
  },
  {
   "cell_type": "code",
   "execution_count": 45,
   "metadata": {},
   "outputs": [
    {
     "data": {
      "text/plain": [
       "(3439, 19)"
      ]
     },
     "execution_count": 45,
     "metadata": {},
     "output_type": "execute_result"
    }
   ],
   "source": [
    "zillow.shape"
   ]
  },
  {
   "cell_type": "code",
   "execution_count": 46,
   "metadata": {},
   "outputs": [],
   "source": [
    "zillow = zillow.dropna()"
   ]
  },
  {
   "cell_type": "code",
   "execution_count": 47,
   "metadata": {},
   "outputs": [
    {
     "data": {
      "text/plain": [
       "(1274, 19)"
      ]
     },
     "execution_count": 47,
     "metadata": {},
     "output_type": "execute_result"
    }
   ],
   "source": [
    "zillow.shape"
   ]
  },
  {
   "cell_type": "code",
   "execution_count": 48,
   "metadata": {},
   "outputs": [
    {
     "name": "stdout",
     "output_type": "stream",
     "text": [
      "<class 'pandas.core.frame.DataFrame'>\n",
      "Int64Index: 1274 entries, 0 to 3437\n",
      "Data columns (total 19 columns):\n",
      "RegionID                               1274 non-null int64\n",
      "RegionName                             1274 non-null int64\n",
      "State                                  1274 non-null object\n",
      "SizeRank                               1274 non-null int64\n",
      "price_to_rent_avg_201609_201708        1274 non-null float64\n",
      "price_to_rent_3yravg_2014_2017         1274 non-null float64\n",
      "value_yoy_gr_2016_2018                 1274 non-null float64\n",
      "rent_yoy_gr_2015_2017                  1274 non-null float64\n",
      "rent_3yravg_yoy_gr_2013_2017           1274 non-null float64\n",
      "sale_count_yoy_gr_2015_2017            1274 non-null float64\n",
      "sale_count_3yravg_yoy_gr_2013_2017     1274 non-null float64\n",
      "turnover_yoy_gr_2015_2017              1274 non-null float64\n",
      "turnover_3yravg_yoy_gr_2013_2017       1274 non-null float64\n",
      "pct_reduced_yoy_gr_2015_2017           1274 non-null float64\n",
      "pct_reduced_3yravg_yoy_gr_2013_2017    1274 non-null float64\n",
      "sale_price_yoy_gr_2015_2017            1274 non-null float64\n",
      "sale_price_3yravg_yoy_gr_2013_2017     1274 non-null float64\n",
      "ptrg_1yr_201609_201708                 1274 non-null float64\n",
      "ptrg_3yr_2013_2017                     1274 non-null float64\n",
      "dtypes: float64(15), int64(3), object(1)\n",
      "memory usage: 199.1+ KB\n"
     ]
    },
    {
     "data": {
      "text/plain": [
       "RegionID                               0\n",
       "RegionName                             0\n",
       "State                                  0\n",
       "SizeRank                               0\n",
       "price_to_rent_avg_201609_201708        0\n",
       "price_to_rent_3yravg_2014_2017         0\n",
       "value_yoy_gr_2016_2018                 0\n",
       "rent_yoy_gr_2015_2017                  0\n",
       "rent_3yravg_yoy_gr_2013_2017           0\n",
       "sale_count_yoy_gr_2015_2017            0\n",
       "sale_count_3yravg_yoy_gr_2013_2017     0\n",
       "turnover_yoy_gr_2015_2017              0\n",
       "turnover_3yravg_yoy_gr_2013_2017       0\n",
       "pct_reduced_yoy_gr_2015_2017           0\n",
       "pct_reduced_3yravg_yoy_gr_2013_2017    0\n",
       "sale_price_yoy_gr_2015_2017            0\n",
       "sale_price_3yravg_yoy_gr_2013_2017     0\n",
       "ptrg_1yr_201609_201708                 0\n",
       "ptrg_3yr_2013_2017                     0\n",
       "dtype: int64"
      ]
     },
     "execution_count": 48,
     "metadata": {},
     "output_type": "execute_result"
    }
   ],
   "source": [
    "zillow.info()\n",
    "\n",
    "zillow.isna().sum()"
   ]
  },
  {
   "cell_type": "code",
   "execution_count": 49,
   "metadata": {},
   "outputs": [],
   "source": [
    "zillow.to_csv('data/zillow_201808.csv', index = False)"
   ]
  },
  {
   "cell_type": "code",
   "execution_count": 50,
   "metadata": {},
   "outputs": [
    {
     "data": {
      "text/html": [
       "<div>\n",
       "<style scoped>\n",
       "    .dataframe tbody tr th:only-of-type {\n",
       "        vertical-align: middle;\n",
       "    }\n",
       "\n",
       "    .dataframe tbody tr th {\n",
       "        vertical-align: top;\n",
       "    }\n",
       "\n",
       "    .dataframe thead th {\n",
       "        text-align: right;\n",
       "    }\n",
       "</style>\n",
       "<table border=\"1\" class=\"dataframe\">\n",
       "  <thead>\n",
       "    <tr style=\"text-align: right;\">\n",
       "      <th></th>\n",
       "      <th>count</th>\n",
       "      <th>mean</th>\n",
       "      <th>std</th>\n",
       "      <th>min</th>\n",
       "      <th>25%</th>\n",
       "      <th>50%</th>\n",
       "      <th>75%</th>\n",
       "      <th>max</th>\n",
       "    </tr>\n",
       "  </thead>\n",
       "  <tbody>\n",
       "    <tr>\n",
       "      <th>RegionID</th>\n",
       "      <td>1274.0</td>\n",
       "      <td>89648.821036</td>\n",
       "      <td>54266.650463</td>\n",
       "      <td>59003.000000</td>\n",
       "      <td>72586.750000</td>\n",
       "      <td>79166.500000</td>\n",
       "      <td>91905.000000</td>\n",
       "      <td>738092.000000</td>\n",
       "    </tr>\n",
       "    <tr>\n",
       "      <th>RegionName</th>\n",
       "      <td>1274.0</td>\n",
       "      <td>54119.008634</td>\n",
       "      <td>25286.364404</td>\n",
       "      <td>3038.000000</td>\n",
       "      <td>33415.750000</td>\n",
       "      <td>48306.500000</td>\n",
       "      <td>76228.500000</td>\n",
       "      <td>99223.000000</td>\n",
       "    </tr>\n",
       "    <tr>\n",
       "      <th>SizeRank</th>\n",
       "      <td>1274.0</td>\n",
       "      <td>3286.623234</td>\n",
       "      <td>2221.743435</td>\n",
       "      <td>2.000000</td>\n",
       "      <td>1409.250000</td>\n",
       "      <td>3035.500000</td>\n",
       "      <td>4825.250000</td>\n",
       "      <td>9878.000000</td>\n",
       "    </tr>\n",
       "    <tr>\n",
       "      <th>price_to_rent_avg_201609_201708</th>\n",
       "      <td>1274.0</td>\n",
       "      <td>12.340211</td>\n",
       "      <td>3.066059</td>\n",
       "      <td>4.560833</td>\n",
       "      <td>10.410417</td>\n",
       "      <td>11.775417</td>\n",
       "      <td>13.578542</td>\n",
       "      <td>34.239167</td>\n",
       "    </tr>\n",
       "    <tr>\n",
       "      <th>price_to_rent_3yravg_2014_2017</th>\n",
       "      <td>1274.0</td>\n",
       "      <td>11.826175</td>\n",
       "      <td>2.928155</td>\n",
       "      <td>4.403333</td>\n",
       "      <td>9.953681</td>\n",
       "      <td>11.294306</td>\n",
       "      <td>13.143472</td>\n",
       "      <td>32.072222</td>\n",
       "    </tr>\n",
       "    <tr>\n",
       "      <th>value_yoy_gr_2016_2018</th>\n",
       "      <td>1274.0</td>\n",
       "      <td>0.075703</td>\n",
       "      <td>0.042968</td>\n",
       "      <td>-0.047638</td>\n",
       "      <td>0.048132</td>\n",
       "      <td>0.071501</td>\n",
       "      <td>0.099326</td>\n",
       "      <td>0.326137</td>\n",
       "    </tr>\n",
       "    <tr>\n",
       "      <th>rent_yoy_gr_2015_2017</th>\n",
       "      <td>1274.0</td>\n",
       "      <td>0.026028</td>\n",
       "      <td>0.030755</td>\n",
       "      <td>-0.075833</td>\n",
       "      <td>0.007289</td>\n",
       "      <td>0.027564</td>\n",
       "      <td>0.045398</td>\n",
       "      <td>0.148240</td>\n",
       "    </tr>\n",
       "    <tr>\n",
       "      <th>rent_3yravg_yoy_gr_2013_2017</th>\n",
       "      <td>1274.0</td>\n",
       "      <td>0.039065</td>\n",
       "      <td>0.025684</td>\n",
       "      <td>-0.036643</td>\n",
       "      <td>0.022756</td>\n",
       "      <td>0.036435</td>\n",
       "      <td>0.052224</td>\n",
       "      <td>0.202814</td>\n",
       "    </tr>\n",
       "    <tr>\n",
       "      <th>sale_count_yoy_gr_2015_2017</th>\n",
       "      <td>1274.0</td>\n",
       "      <td>0.042018</td>\n",
       "      <td>0.124327</td>\n",
       "      <td>-0.365325</td>\n",
       "      <td>-0.025666</td>\n",
       "      <td>0.039798</td>\n",
       "      <td>0.106397</td>\n",
       "      <td>0.735931</td>\n",
       "    </tr>\n",
       "    <tr>\n",
       "      <th>sale_count_3yravg_yoy_gr_2013_2017</th>\n",
       "      <td>1274.0</td>\n",
       "      <td>0.082733</td>\n",
       "      <td>0.069020</td>\n",
       "      <td>-0.188168</td>\n",
       "      <td>0.039569</td>\n",
       "      <td>0.079063</td>\n",
       "      <td>0.121629</td>\n",
       "      <td>0.585137</td>\n",
       "    </tr>\n",
       "    <tr>\n",
       "      <th>turnover_yoy_gr_2015_2017</th>\n",
       "      <td>1274.0</td>\n",
       "      <td>0.027746</td>\n",
       "      <td>0.120892</td>\n",
       "      <td>-0.382286</td>\n",
       "      <td>-0.037408</td>\n",
       "      <td>0.028385</td>\n",
       "      <td>0.090510</td>\n",
       "      <td>0.597285</td>\n",
       "    </tr>\n",
       "    <tr>\n",
       "      <th>turnover_3yravg_yoy_gr_2013_2017</th>\n",
       "      <td>1274.0</td>\n",
       "      <td>0.061132</td>\n",
       "      <td>0.068001</td>\n",
       "      <td>-0.195426</td>\n",
       "      <td>0.018524</td>\n",
       "      <td>0.060521</td>\n",
       "      <td>0.103642</td>\n",
       "      <td>0.396980</td>\n",
       "    </tr>\n",
       "    <tr>\n",
       "      <th>pct_reduced_yoy_gr_2015_2017</th>\n",
       "      <td>1274.0</td>\n",
       "      <td>0.010967</td>\n",
       "      <td>0.161980</td>\n",
       "      <td>-0.458019</td>\n",
       "      <td>-0.091247</td>\n",
       "      <td>0.006998</td>\n",
       "      <td>0.102299</td>\n",
       "      <td>1.550592</td>\n",
       "    </tr>\n",
       "    <tr>\n",
       "      <th>pct_reduced_3yravg_yoy_gr_2013_2017</th>\n",
       "      <td>1274.0</td>\n",
       "      <td>-0.019351</td>\n",
       "      <td>0.081152</td>\n",
       "      <td>-0.276927</td>\n",
       "      <td>-0.073355</td>\n",
       "      <td>-0.015338</td>\n",
       "      <td>0.033079</td>\n",
       "      <td>0.372227</td>\n",
       "    </tr>\n",
       "    <tr>\n",
       "      <th>sale_price_yoy_gr_2015_2017</th>\n",
       "      <td>1274.0</td>\n",
       "      <td>0.083590</td>\n",
       "      <td>0.060073</td>\n",
       "      <td>-0.165917</td>\n",
       "      <td>0.048896</td>\n",
       "      <td>0.082462</td>\n",
       "      <td>0.117980</td>\n",
       "      <td>0.317901</td>\n",
       "    </tr>\n",
       "    <tr>\n",
       "      <th>sale_price_3yravg_yoy_gr_2013_2017</th>\n",
       "      <td>1274.0</td>\n",
       "      <td>0.077185</td>\n",
       "      <td>0.042528</td>\n",
       "      <td>-0.026148</td>\n",
       "      <td>0.048579</td>\n",
       "      <td>0.074270</td>\n",
       "      <td>0.103101</td>\n",
       "      <td>0.271713</td>\n",
       "    </tr>\n",
       "    <tr>\n",
       "      <th>ptrg_1yr_201609_201708</th>\n",
       "      <td>1274.0</td>\n",
       "      <td>2.349590</td>\n",
       "      <td>65.749972</td>\n",
       "      <td>-1439.763352</td>\n",
       "      <td>1.797929</td>\n",
       "      <td>3.119537</td>\n",
       "      <td>5.643390</td>\n",
       "      <td>951.049711</td>\n",
       "    </tr>\n",
       "    <tr>\n",
       "      <th>ptrg_3yr_2013_2017</th>\n",
       "      <td>1274.0</td>\n",
       "      <td>3.737263</td>\n",
       "      <td>53.919160</td>\n",
       "      <td>-1011.882684</td>\n",
       "      <td>2.253017</td>\n",
       "      <td>3.075071</td>\n",
       "      <td>4.761076</td>\n",
       "      <td>1088.882039</td>\n",
       "    </tr>\n",
       "  </tbody>\n",
       "</table>\n",
       "</div>"
      ],
      "text/plain": [
       "                                      count          mean           std  \\\n",
       "RegionID                             1274.0  89648.821036  54266.650463   \n",
       "RegionName                           1274.0  54119.008634  25286.364404   \n",
       "SizeRank                             1274.0   3286.623234   2221.743435   \n",
       "price_to_rent_avg_201609_201708      1274.0     12.340211      3.066059   \n",
       "price_to_rent_3yravg_2014_2017       1274.0     11.826175      2.928155   \n",
       "value_yoy_gr_2016_2018               1274.0      0.075703      0.042968   \n",
       "rent_yoy_gr_2015_2017                1274.0      0.026028      0.030755   \n",
       "rent_3yravg_yoy_gr_2013_2017         1274.0      0.039065      0.025684   \n",
       "sale_count_yoy_gr_2015_2017          1274.0      0.042018      0.124327   \n",
       "sale_count_3yravg_yoy_gr_2013_2017   1274.0      0.082733      0.069020   \n",
       "turnover_yoy_gr_2015_2017            1274.0      0.027746      0.120892   \n",
       "turnover_3yravg_yoy_gr_2013_2017     1274.0      0.061132      0.068001   \n",
       "pct_reduced_yoy_gr_2015_2017         1274.0      0.010967      0.161980   \n",
       "pct_reduced_3yravg_yoy_gr_2013_2017  1274.0     -0.019351      0.081152   \n",
       "sale_price_yoy_gr_2015_2017          1274.0      0.083590      0.060073   \n",
       "sale_price_3yravg_yoy_gr_2013_2017   1274.0      0.077185      0.042528   \n",
       "ptrg_1yr_201609_201708               1274.0      2.349590     65.749972   \n",
       "ptrg_3yr_2013_2017                   1274.0      3.737263     53.919160   \n",
       "\n",
       "                                              min           25%           50%  \\\n",
       "RegionID                             59003.000000  72586.750000  79166.500000   \n",
       "RegionName                            3038.000000  33415.750000  48306.500000   \n",
       "SizeRank                                 2.000000   1409.250000   3035.500000   \n",
       "price_to_rent_avg_201609_201708          4.560833     10.410417     11.775417   \n",
       "price_to_rent_3yravg_2014_2017           4.403333      9.953681     11.294306   \n",
       "value_yoy_gr_2016_2018                  -0.047638      0.048132      0.071501   \n",
       "rent_yoy_gr_2015_2017                   -0.075833      0.007289      0.027564   \n",
       "rent_3yravg_yoy_gr_2013_2017            -0.036643      0.022756      0.036435   \n",
       "sale_count_yoy_gr_2015_2017             -0.365325     -0.025666      0.039798   \n",
       "sale_count_3yravg_yoy_gr_2013_2017      -0.188168      0.039569      0.079063   \n",
       "turnover_yoy_gr_2015_2017               -0.382286     -0.037408      0.028385   \n",
       "turnover_3yravg_yoy_gr_2013_2017        -0.195426      0.018524      0.060521   \n",
       "pct_reduced_yoy_gr_2015_2017            -0.458019     -0.091247      0.006998   \n",
       "pct_reduced_3yravg_yoy_gr_2013_2017     -0.276927     -0.073355     -0.015338   \n",
       "sale_price_yoy_gr_2015_2017             -0.165917      0.048896      0.082462   \n",
       "sale_price_3yravg_yoy_gr_2013_2017      -0.026148      0.048579      0.074270   \n",
       "ptrg_1yr_201609_201708               -1439.763352      1.797929      3.119537   \n",
       "ptrg_3yr_2013_2017                   -1011.882684      2.253017      3.075071   \n",
       "\n",
       "                                              75%            max  \n",
       "RegionID                             91905.000000  738092.000000  \n",
       "RegionName                           76228.500000   99223.000000  \n",
       "SizeRank                              4825.250000    9878.000000  \n",
       "price_to_rent_avg_201609_201708         13.578542      34.239167  \n",
       "price_to_rent_3yravg_2014_2017          13.143472      32.072222  \n",
       "value_yoy_gr_2016_2018                   0.099326       0.326137  \n",
       "rent_yoy_gr_2015_2017                    0.045398       0.148240  \n",
       "rent_3yravg_yoy_gr_2013_2017             0.052224       0.202814  \n",
       "sale_count_yoy_gr_2015_2017              0.106397       0.735931  \n",
       "sale_count_3yravg_yoy_gr_2013_2017       0.121629       0.585137  \n",
       "turnover_yoy_gr_2015_2017                0.090510       0.597285  \n",
       "turnover_3yravg_yoy_gr_2013_2017         0.103642       0.396980  \n",
       "pct_reduced_yoy_gr_2015_2017             0.102299       1.550592  \n",
       "pct_reduced_3yravg_yoy_gr_2013_2017      0.033079       0.372227  \n",
       "sale_price_yoy_gr_2015_2017              0.117980       0.317901  \n",
       "sale_price_3yravg_yoy_gr_2013_2017       0.103101       0.271713  \n",
       "ptrg_1yr_201609_201708                   5.643390     951.049711  \n",
       "ptrg_3yr_2013_2017                       4.761076    1088.882039  "
      ]
     },
     "execution_count": 50,
     "metadata": {},
     "output_type": "execute_result"
    }
   ],
   "source": [
    "zillow.describe().T"
   ]
  },
  {
   "cell_type": "code",
   "execution_count": 51,
   "metadata": {},
   "outputs": [
    {
     "data": {
      "text/plain": [
       "pct_reduced_3yravg_yoy_gr_2013_2017   -0.343028\n",
       "pct_reduced_yoy_gr_2015_2017          -0.105820\n",
       "ptrg_1yr_201609_201708                -0.052624\n",
       "SizeRank                              -0.049615\n",
       "RegionID                              -0.025382\n",
       "price_to_rent_3yravg_2014_2017        -0.023815\n",
       "ptrg_3yr_2013_2017                    -0.009660\n",
       "sale_count_3yravg_yoy_gr_2013_2017     0.015202\n",
       "price_to_rent_avg_201609_201708        0.016458\n",
       "sale_count_yoy_gr_2015_2017            0.044811\n",
       "turnover_3yravg_yoy_gr_2013_2017       0.063285\n",
       "turnover_yoy_gr_2015_2017              0.067206\n",
       "RegionName                             0.078757\n",
       "rent_3yravg_yoy_gr_2013_2017           0.302601\n",
       "rent_yoy_gr_2015_2017                  0.372369\n",
       "sale_price_yoy_gr_2015_2017            0.510070\n",
       "sale_price_3yravg_yoy_gr_2013_2017     0.555317\n",
       "value_yoy_gr_2016_2018                 1.000000\n",
       "Name: value_yoy_gr_2016_2018, dtype: float64"
      ]
     },
     "execution_count": 51,
     "metadata": {},
     "output_type": "execute_result"
    }
   ],
   "source": [
    "zillow.corr().value_yoy_gr_2016_2018.sort_values()"
   ]
  },
  {
   "cell_type": "code",
   "execution_count": 52,
   "metadata": {},
   "outputs": [
    {
     "data": {
      "image/png": "[encoded data removed]",
      "text/plain": [
       "<Figure size 432x288 with 1 Axes>"
      ]
     },
     "metadata": {},
     "output_type": "display_data"
    }
   ],
   "source": [
    "plt.hist(zillow.value_yoy_gr_2016_2018, bins=6);\n",
    "plt.xlabel('% Change in Value')\n",
    "plt.ylabel('Count of Cities')\n",
    "plt.title('Distribution of YOY Value Growth Rates by City (Current Year)')\n",
    "ax = plt.gca()\n",
    "ax.grid(which='major', axis='y');"
   ]
  },
  {
   "cell_type": "code",
   "execution_count": 53,
   "metadata": {},
   "outputs": [
    {
     "data": {
      "image/png": "[encoded data removed]",
      "text/plain": [
       "<Figure size 432x288 with 1 Axes>"
      ]
     },
     "metadata": {},
     "output_type": "display_data"
    }
   ],
   "source": [
    "# States with Cities in the Bottom 25% (YOY Value Growth, Current Year)\n",
    "zillow[zillow.value_yoy_gr_2016_2018 <= 0.047848].State.value_counts().sort_values(ascending=False).plot(kind='bar');\n",
    "plt.xlabel('State')\n",
    "plt.ylabel('Count of Cities')\n",
    "plt.title('Cities per State in the Bottom 25% (YOY Value Growth, Current Year)')\n",
    "ax = plt.gca()\n",
    "ax.grid(which='major', axis='y');"
   ]
  },
  {
   "cell_type": "code",
   "execution_count": 54,
   "metadata": {},
   "outputs": [
    {
     "data": {
      "image/png": "[encoded data removed]",
      "text/plain": [
       "<Figure size 432x288 with 1 Axes>"
      ]
     },
     "metadata": {},
     "output_type": "display_data"
    }
   ],
   "source": [
    "# States with Cities in the Top 25% (YOY Value Growth, Current Year)\n",
    "zillow[zillow.value_yoy_gr_2016_2018 >= 0.090575].State.value_counts().sort_values(ascending=False).plot(kind='bar');\n",
    "plt.xlabel('State')\n",
    "plt.ylabel('Count of Cities')\n",
    "plt.title('Cities per State in the Top 25% (YOY Value Growth, Current Year)')\n",
    "ax = plt.gca()\n",
    "ax.grid(which='major', axis='y');"
   ]
  },
  {
   "cell_type": "code",
   "execution_count": 55,
   "metadata": {},
   "outputs": [
    {
     "data": {
      "image/png": "[encoded data removed]",
      "text/plain": [
       "<Figure size 432x288 with 1 Axes>"
      ]
     },
     "metadata": {},
     "output_type": "display_data"
    }
   ],
   "source": [
    "# States with Cities YOY Value Growth, Current Year Less than -1%\n",
    "zillow[zillow.value_yoy_gr_2016_2018 < -.01].State.value_counts().sort_values(ascending=False).plot(kind='bar');\n",
    "plt.xlabel('State')\n",
    "plt.ylabel('Count of Cities')\n",
    "plt.title('Cities per State with YOY Value Growth (Current Year) Less than -1%')\n",
    "ax = plt.gca()\n",
    "ax.grid(which='major', axis='y');"
   ]
  },
  {
   "cell_type": "code",
   "execution_count": 56,
   "metadata": {},
   "outputs": [
    {
     "data": {
      "image/png": "[encoded data removed]",
      "text/plain": [
       "<Figure size 432x288 with 1 Axes>"
      ]
     },
     "metadata": {},
     "output_type": "display_data"
    }
   ],
   "source": [
    "# States with Cities YOY Value Growth, Current Year Greater than 20%\n",
    "zillow[zillow.value_yoy_gr_2016_2018 > .2].State.value_counts().sort_values(ascending=False).plot(kind='bar');\n",
    "plt.xlabel('State')\n",
    "plt.ylabel('Count of Cities')\n",
    "plt.title('Cities per State with YOY Value Growth (Current Year) Greater than 20%')\n",
    "ax = plt.gca()\n",
    "ax.grid(which='major', axis='y');"
   ]
  },
  {
   "cell_type": "code",
   "execution_count": null,
   "metadata": {},
   "outputs": [],
   "source": []
  }
 ],
 "metadata": {
  "kernelspec": {
   "display_name": "Python 3",
   "language": "python",
   "name": "python3"
  },
  "language_info": {
   "codemirror_mode": {
    "name": "ipython",
    "version": 3
   },
   "file_extension": ".py",
   "mimetype": "text/x-python",
   "name": "python",
   "nbconvert_exporter": "python",
   "pygments_lexer": "ipython3",
   "version": "3.6.5"
  }
 },
 "nbformat": 4,
 "nbformat_minor": 2
}
