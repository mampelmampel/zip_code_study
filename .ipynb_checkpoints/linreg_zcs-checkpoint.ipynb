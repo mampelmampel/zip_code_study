{
 "cells": [
  {
   "cell_type": "code",
   "execution_count": 2,
   "metadata": {},
   "outputs": [],
   "source": [
    "import pandas as pd\n",
    "import numpy as np\n",
    "import seaborn as sns\n",
    "import matplotlib.pyplot as plt\n",
    "%matplotlib inline\n",
    "\n",
    "zillow = pd.read_csv('data/zillow_201808.csv')"
   ]
  },
  {
   "cell_type": "code",
   "execution_count": 3,
   "metadata": {},
   "outputs": [
    {
     "data": {
      "text/plain": [
       "Index(['RegionID', 'RegionName', 'State', 'SizeRank',\n",
       "       'price_to_rent_avg_201609_201708', 'price_to_rent_3yravg_2014_2017',\n",
       "       'value_yoy_gr_2016_2018', 'rent_yoy_gr_2015_2017',\n",
       "       'rent_3yravg_yoy_gr_2013_2017', 'sale_count_yoy_gr_2015_2017',\n",
       "       'sale_count_3yravg_yoy_gr_2013_2017', 'turnover_yoy_gr_2015_2017',\n",
       "       'turnover_3yravg_yoy_gr_2013_2017', 'pct_reduced_yoy_gr_2015_2017',\n",
       "       'pct_reduced_3yravg_yoy_gr_2013_2017', 'sale_price_yoy_gr_2015_2017',\n",
       "       'sale_price_3yravg_yoy_gr_2013_2017', 'ptrg_1yr_201609_201708',\n",
       "       'ptrg_3yr_2013_2017'],\n",
       "      dtype='object')"
      ]
     },
     "execution_count": 3,
     "metadata": {},
     "output_type": "execute_result"
    }
   ],
   "source": [
    "zillow.columns"
   ]
  },
  {
   "cell_type": "code",
   "execution_count": 4,
   "metadata": {},
   "outputs": [
    {
     "data": {
      "text/plain": [
       "pct_reduced_3yravg_yoy_gr_2013_2017   -0.343028\n",
       "pct_reduced_yoy_gr_2015_2017          -0.105820\n",
       "ptrg_1yr_201609_201708                -0.052624\n",
       "SizeRank                              -0.049615\n",
       "RegionID                              -0.025382\n",
       "price_to_rent_3yravg_2014_2017        -0.023815\n",
       "ptrg_3yr_2013_2017                    -0.009660\n",
       "sale_count_3yravg_yoy_gr_2013_2017     0.015202\n",
       "price_to_rent_avg_201609_201708        0.016458\n",
       "sale_count_yoy_gr_2015_2017            0.044811\n",
       "turnover_3yravg_yoy_gr_2013_2017       0.063285\n",
       "turnover_yoy_gr_2015_2017              0.067206\n",
       "RegionName                             0.078757\n",
       "rent_3yravg_yoy_gr_2013_2017           0.302601\n",
       "rent_yoy_gr_2015_2017                  0.372369\n",
       "sale_price_yoy_gr_2015_2017            0.510070\n",
       "sale_price_3yravg_yoy_gr_2013_2017     0.555317\n",
       "value_yoy_gr_2016_2018                 1.000000\n",
       "Name: value_yoy_gr_2016_2018, dtype: float64"
      ]
     },
     "execution_count": 4,
     "metadata": {},
     "output_type": "execute_result"
    }
   ],
   "source": [
    "zillow.corr().value_yoy_gr_2016_2018.sort_values()"
   ]
  },
  {
   "cell_type": "code",
   "execution_count": 5,
   "metadata": {},
   "outputs": [],
   "source": [
    "feature_cols = zillow.columns.drop(['value_yoy_gr_2016_2018', 'RegionID', 'RegionName', 'State', 'SizeRank'])\n",
    "\n",
    "X = zillow[feature_cols]\n",
    "\n",
    "y = zillow.value_yoy_gr_2016_2018"
   ]
  },
  {
   "cell_type": "code",
   "execution_count": 6,
   "metadata": {},
   "outputs": [],
   "source": [
    "from sklearn.linear_model import LinearRegression\n",
    "from sklearn.model_selection import train_test_split"
   ]
  },
  {
   "cell_type": "code",
   "execution_count": 7,
   "metadata": {},
   "outputs": [
    {
     "name": "stdout",
     "output_type": "stream",
     "text": [
      "(1019, 14)\n",
      "(255, 14)\n",
      "(1019,)\n",
      "(255,)\n"
     ]
    },
    {
     "name": "stderr",
     "output_type": "stream",
     "text": [
      "C:\\Users\\clinton\\Anaconda3\\lib\\site-packages\\sklearn\\model_selection\\_split.py:2026: FutureWarning: From version 0.21, test_size will always complement train_size unless both are specified.\n",
      "  FutureWarning)\n"
     ]
    }
   ],
   "source": [
    "X_train, X_test, y_train, y_test = train_test_split(X, y, train_size = 0.8, random_state = 99)\n",
    "\n",
    "print(X_train.shape)\n",
    "print(X_test.shape)\n",
    "print(y_train.shape)\n",
    "print(y_test.shape)"
   ]
  },
  {
   "cell_type": "code",
   "execution_count": 8,
   "metadata": {},
   "outputs": [
    {
     "data": {
      "text/plain": [
       "LinearRegression(copy_X=True, fit_intercept=True, n_jobs=1, normalize=False)"
      ]
     },
     "execution_count": 8,
     "metadata": {},
     "output_type": "execute_result"
    }
   ],
   "source": [
    "lr = LinearRegression()\n",
    "\n",
    "lr.fit(X_train, y_train)"
   ]
  },
  {
   "cell_type": "code",
   "execution_count": 9,
   "metadata": {},
   "outputs": [
    {
     "data": {
      "text/plain": [
       "0.4431689731764007"
      ]
     },
     "execution_count": 9,
     "metadata": {},
     "output_type": "execute_result"
    }
   ],
   "source": [
    "lr.score(X_train, y_train)"
   ]
  },
  {
   "cell_type": "code",
   "execution_count": 10,
   "metadata": {},
   "outputs": [
    {
     "data": {
      "text/plain": [
       "0.415931932472383"
      ]
     },
     "execution_count": 10,
     "metadata": {},
     "output_type": "execute_result"
    }
   ],
   "source": [
    "lr.score(X_test, y_test)"
   ]
  },
  {
   "cell_type": "code",
   "execution_count": 11,
   "metadata": {},
   "outputs": [
    {
     "name": "stdout",
     "output_type": "stream",
     "text": [
      "0.052035508694155186\n"
     ]
    },
    {
     "data": {
      "text/plain": [
       "[('price_to_rent_avg_201609_201708', 0.03167644589865284),\n",
       " ('price_to_rent_3yravg_2014_2017', -0.03428428396748375),\n",
       " ('rent_yoy_gr_2015_2017', 0.3134138152080055),\n",
       " ('rent_3yravg_yoy_gr_2013_2017', 0.13967077351946958),\n",
       " ('sale_count_yoy_gr_2015_2017', 0.017867767700412082),\n",
       " ('sale_count_3yravg_yoy_gr_2013_2017', -0.14553522310556719),\n",
       " ('turnover_yoy_gr_2015_2017', 0.012261335428806076),\n",
       " ('turnover_3yravg_yoy_gr_2013_2017', 0.16643418013552655),\n",
       " ('pct_reduced_yoy_gr_2015_2017', -0.029131169972879963),\n",
       " ('pct_reduced_3yravg_yoy_gr_2013_2017', -0.02804256274358757),\n",
       " ('sale_price_yoy_gr_2015_2017', 0.1092977149936681),\n",
       " ('sale_price_3yravg_yoy_gr_2013_2017', 0.20562742219684427),\n",
       " ('ptrg_1yr_201609_201708', -4.850301138325924e-05),\n",
       " ('ptrg_3yr_2013_2017', 1.2496001786964848e-06)]"
      ]
     },
     "execution_count": 11,
     "metadata": {},
     "output_type": "execute_result"
    }
   ],
   "source": [
    "print(lr.intercept_)\n",
    "list(zip(feature_cols, lr.coef_))"
   ]
  },
  {
   "cell_type": "code",
   "execution_count": 12,
   "metadata": {},
   "outputs": [
    {
     "data": {
      "image/png": "[encoded data removed]",
      "text/plain": [
       "<Figure size 432x288 with 1 Axes>"
      ]
     },
     "metadata": {},
     "output_type": "display_data"
    }
   ],
   "source": [
    "y_pred = lr.predict(X_test)\n",
    "plt.scatter(y_test, y_pred);\n",
    "plt.plot(y_test, y_test);"
   ]
  },
  {
   "cell_type": "code",
   "execution_count": 13,
   "metadata": {},
   "outputs": [
    {
     "name": "stdout",
     "output_type": "stream",
     "text": [
      "0.032278027146408386\n"
     ]
    }
   ],
   "source": [
    "from sklearn import metrics\n",
    "\n",
    "print(np.sqrt(metrics.mean_squared_error(y_test, y_pred)))"
   ]
  },
  {
   "cell_type": "code",
   "execution_count": 14,
   "metadata": {},
   "outputs": [
    {
     "data": {
      "text/plain": [
       "array([0.07836978, 0.07836978, 0.07836978, 0.07836978, 0.07836978,\n",
       "       0.07836978, 0.07836978, 0.07836978, 0.07836978, 0.07836978,\n",
       "       0.07836978, 0.07836978, 0.07836978, 0.07836978, 0.07836978,\n",
       "       0.07836978, 0.07836978, 0.07836978, 0.07836978, 0.07836978,\n",
       "       0.07836978, 0.07836978, 0.07836978, 0.07836978, 0.07836978,\n",
       "       0.07836978, 0.07836978, 0.07836978, 0.07836978, 0.07836978,\n",
       "       0.07836978, 0.07836978, 0.07836978, 0.07836978, 0.07836978,\n",
       "       0.07836978, 0.07836978, 0.07836978, 0.07836978, 0.07836978,\n",
       "       0.07836978, 0.07836978, 0.07836978, 0.07836978, 0.07836978,\n",
       "       0.07836978, 0.07836978, 0.07836978, 0.07836978, 0.07836978,\n",
       "       0.07836978, 0.07836978, 0.07836978, 0.07836978, 0.07836978,\n",
       "       0.07836978, 0.07836978, 0.07836978, 0.07836978, 0.07836978,\n",
       "       0.07836978, 0.07836978, 0.07836978, 0.07836978, 0.07836978,\n",
       "       0.07836978, 0.07836978, 0.07836978, 0.07836978, 0.07836978,\n",
       "       0.07836978, 0.07836978, 0.07836978, 0.07836978, 0.07836978,\n",
       "       0.07836978, 0.07836978, 0.07836978, 0.07836978, 0.07836978,\n",
       "       0.07836978, 0.07836978, 0.07836978, 0.07836978, 0.07836978,\n",
       "       0.07836978, 0.07836978, 0.07836978, 0.07836978, 0.07836978,\n",
       "       0.07836978, 0.07836978, 0.07836978, 0.07836978, 0.07836978,\n",
       "       0.07836978, 0.07836978, 0.07836978, 0.07836978, 0.07836978,\n",
       "       0.07836978, 0.07836978, 0.07836978, 0.07836978, 0.07836978,\n",
       "       0.07836978, 0.07836978, 0.07836978, 0.07836978, 0.07836978,\n",
       "       0.07836978, 0.07836978, 0.07836978, 0.07836978, 0.07836978,\n",
       "       0.07836978, 0.07836978, 0.07836978, 0.07836978, 0.07836978,\n",
       "       0.07836978, 0.07836978, 0.07836978, 0.07836978, 0.07836978,\n",
       "       0.07836978, 0.07836978, 0.07836978, 0.07836978, 0.07836978,\n",
       "       0.07836978, 0.07836978, 0.07836978, 0.07836978, 0.07836978,\n",
       "       0.07836978, 0.07836978, 0.07836978, 0.07836978, 0.07836978,\n",
       "       0.07836978, 0.07836978, 0.07836978, 0.07836978, 0.07836978,\n",
       "       0.07836978, 0.07836978, 0.07836978, 0.07836978, 0.07836978,\n",
       "       0.07836978, 0.07836978, 0.07836978, 0.07836978, 0.07836978,\n",
       "       0.07836978, 0.07836978, 0.07836978, 0.07836978, 0.07836978,\n",
       "       0.07836978, 0.07836978, 0.07836978, 0.07836978, 0.07836978,\n",
       "       0.07836978, 0.07836978, 0.07836978, 0.07836978, 0.07836978,\n",
       "       0.07836978, 0.07836978, 0.07836978, 0.07836978, 0.07836978,\n",
       "       0.07836978, 0.07836978, 0.07836978, 0.07836978, 0.07836978,\n",
       "       0.07836978, 0.07836978, 0.07836978, 0.07836978, 0.07836978,\n",
       "       0.07836978, 0.07836978, 0.07836978, 0.07836978, 0.07836978,\n",
       "       0.07836978, 0.07836978, 0.07836978, 0.07836978, 0.07836978,\n",
       "       0.07836978, 0.07836978, 0.07836978, 0.07836978, 0.07836978,\n",
       "       0.07836978, 0.07836978, 0.07836978, 0.07836978, 0.07836978,\n",
       "       0.07836978, 0.07836978, 0.07836978, 0.07836978, 0.07836978,\n",
       "       0.07836978, 0.07836978, 0.07836978, 0.07836978, 0.07836978,\n",
       "       0.07836978, 0.07836978, 0.07836978, 0.07836978, 0.07836978,\n",
       "       0.07836978, 0.07836978, 0.07836978, 0.07836978, 0.07836978,\n",
       "       0.07836978, 0.07836978, 0.07836978, 0.07836978, 0.07836978,\n",
       "       0.07836978, 0.07836978, 0.07836978, 0.07836978, 0.07836978,\n",
       "       0.07836978, 0.07836978, 0.07836978, 0.07836978, 0.07836978,\n",
       "       0.07836978, 0.07836978, 0.07836978, 0.07836978, 0.07836978,\n",
       "       0.07836978, 0.07836978, 0.07836978, 0.07836978, 0.07836978,\n",
       "       0.07836978, 0.07836978, 0.07836978, 0.07836978, 0.07836978])"
      ]
     },
     "execution_count": 14,
     "metadata": {},
     "output_type": "execute_result"
    }
   ],
   "source": [
    "# Null RMSE is the RMSE that could be achieved by always predicting the mean response value. It is a benchmark to measure\n",
    "# the model.\n",
    "\n",
    "# Create a NumPy array with the same shape as y_test.\n",
    "y_null = np.zeros_like(y_test, dtype=float)\n",
    "\n",
    "# Fill the array with the mean value of y_test.\n",
    "y_null.fill(y_test.mean())\n",
    "y_null"
   ]
  },
  {
   "cell_type": "code",
   "execution_count": 15,
   "metadata": {},
   "outputs": [
    {
     "data": {
      "text/plain": [
       "0.042235267683440235"
      ]
     },
     "execution_count": 15,
     "metadata": {},
     "output_type": "execute_result"
    }
   ],
   "source": [
    "np.sqrt(metrics.mean_squared_error(y_test, y_null))"
   ]
  },
  {
   "cell_type": "code",
   "execution_count": 16,
   "metadata": {},
   "outputs": [
    {
     "name": "stdout",
     "output_type": "stream",
     "text": [
      "Features sorted by their rank:\n",
      "[(1, 'sale_price_3yravg_yoy_gr_2013_2017'), (2, 'rent_yoy_gr_2015_2017'), (3, 'turnover_3yravg_yoy_gr_2013_2017'), (4, 'sale_count_3yravg_yoy_gr_2013_2017'), (5, 'sale_price_yoy_gr_2015_2017'), (6, 'rent_3yravg_yoy_gr_2013_2017'), (7, 'pct_reduced_yoy_gr_2015_2017'), (8, 'price_to_rent_3yravg_2014_2017'), (9, 'price_to_rent_avg_201609_201708'), (10, 'pct_reduced_3yravg_yoy_gr_2013_2017'), (11, 'turnover_yoy_gr_2015_2017'), (12, 'sale_count_yoy_gr_2015_2017'), (13, 'ptrg_1yr_201609_201708'), (14, 'ptrg_3yr_2013_2017')]\n"
     ]
    }
   ],
   "source": [
    "from sklearn.feature_selection import RFE\n",
    "#rank all features, i.e continue the elimination until the last one\n",
    "rfe = RFE(lr, n_features_to_select=1)\n",
    "rfe.fit(X,y)\n",
    " \n",
    "print (\"Features sorted by their rank:\")\n",
    "print (sorted(zip(map(lambda x: round(x, 4), rfe.ranking_), feature_cols)))"
   ]
  },
  {
   "cell_type": "code",
   "execution_count": 17,
   "metadata": {},
   "outputs": [],
   "source": [
    "# Define a function that accepts a list of features and returns testing RMSE.\n",
    "def train_test_rmse(zillow, feature_cols):\n",
    "    X = zillow[feature_cols]\n",
    "    y = zillow.value_yoy_gr_2016_2018\n",
    "    \n",
    "    X_train, X_test, y_train, y_test = train_test_split(X, y, train_size = 0.8, random_state=99)\n",
    "    \n",
    "    linreg = LinearRegression()\n",
    "    linreg.fit(X_train, y_train)\n",
    "    \n",
    "    y_pred = linreg.predict(X_test)\n",
    "    return np.sqrt(metrics.mean_squared_error(y_test, y_pred))"
   ]
  },
  {
   "cell_type": "code",
   "execution_count": 19,
   "metadata": {},
   "outputs": [
    {
     "name": "stdout",
     "output_type": "stream",
     "text": [
      "All 14\n",
      "0.032278027146408386\n",
      "Corr > |.2|\n",
      "0.033181597428914016\n",
      "Top 4 coef\n",
      "0.03458259696940861\n",
      "Top 7 from RFE\n",
      "0.033085336495120195\n",
      "Top 5 from RFE\n",
      "0.03297242947580091\n",
      "Top 3 from RFE\n",
      "0.03394522405066716\n",
      "--------------------\n",
      "Null RMSE - Always predicting the mean response value\n",
      "0.042235267683440235\n"
     ]
    },
    {
     "name": "stderr",
     "output_type": "stream",
     "text": [
      "C:\\Users\\clinton\\Anaconda3\\lib\\site-packages\\sklearn\\model_selection\\_split.py:2026: FutureWarning: From version 0.21, test_size will always complement train_size unless both are specified.\n",
      "  FutureWarning)\n"
     ]
    }
   ],
   "source": [
    "# Compare different sets of features.\n",
    "print('All 14')\n",
    "print(train_test_rmse(zillow, feature_cols))\n",
    "print('Corr > |.2|')\n",
    "print(train_test_rmse(zillow, ['pct_reduced_3yravg_yoy_gr_2013_2017', 'rent_3yravg_yoy_gr_2013_2017', 'rent_yoy_gr_2015_2017', 'sale_price_yoy_gr_2015_2017', 'sale_price_3yravg_yoy_gr_2013_2017']))\n",
    "print('Top 4 coef')\n",
    "print(train_test_rmse(zillow, ['turnover_3yravg_yoy_gr_2013_2017', 'sale_price_3yravg_yoy_gr_2013_2017', 'sale_count_3yravg_yoy_gr_2013_2017', 'rent_3yravg_yoy_gr_2013_2017']))\n",
    "print('Top 7 from RFE')\n",
    "print(train_test_rmse(zillow,['sale_price_3yravg_yoy_gr_2013_2017', 'sale_price_yoy_gr_2015_2017', 'rent_3yravg_yoy_gr_2013_2017', 'pct_reduced_3yravg_yoy_gr_2013_2017', 'turnover_3yravg_yoy_gr_2013_2017', 'sale_count_3yravg_yoy_gr_2013_2017', 'rent_yoy_gr_2015_2017']))\n",
    "print('Top 5 from RFE')\n",
    "print(train_test_rmse(zillow,['sale_price_3yravg_yoy_gr_2013_2017', 'sale_price_yoy_gr_2015_2017', 'rent_3yravg_yoy_gr_2013_2017', 'pct_reduced_3yravg_yoy_gr_2013_2017', 'turnover_3yravg_yoy_gr_2013_2017']))\n",
    "print('Top 3 from RFE')\n",
    "print(train_test_rmse(zillow,['sale_price_3yravg_yoy_gr_2013_2017', 'sale_price_yoy_gr_2015_2017', 'rent_3yravg_yoy_gr_2013_2017']))\n",
    "print('--------------------')\n",
    "print('Null RMSE - Always predicting the mean response value')\n",
    "print(np.sqrt(metrics.mean_squared_error(y_test, y_null)))"
   ]
  },
  {
   "cell_type": "code",
   "execution_count": null,
   "metadata": {},
   "outputs": [],
   "source": []
  }
 ],
 "metadata": {
  "kernelspec": {
   "display_name": "Python 3",
   "language": "python",
   "name": "python3"
  },
  "language_info": {
   "codemirror_mode": {
    "name": "ipython",
    "version": 3
   },
   "file_extension": ".py",
   "mimetype": "text/x-python",
   "name": "python",
   "nbconvert_exporter": "python",
   "pygments_lexer": "ipython3",
   "version": "3.6.5"
  }
 },
 "nbformat": 4,
 "nbformat_minor": 2
}
