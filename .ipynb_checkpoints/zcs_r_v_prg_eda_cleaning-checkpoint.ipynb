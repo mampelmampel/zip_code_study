{
 "cells": [
  {
   "cell_type": "code",
   "execution_count": 155,
   "metadata": {},
   "outputs": [],
   "source": [
    "import pandas as pd\n",
    "import numpy as np\n",
    "import seaborn as sns\n",
    "import matplotlib.pyplot as plt\n",
    "%matplotlib inline\n",
    "\n",
    "rent = pd.read_csv('data/Zip_Zri_AllHomes.csv')\n",
    "value = pd.read_csv('data/Zip_Zhvi_AllHomes.csv')\n",
    "price_to_rent = pd.read_csv('data/Zip_PriceToRentRatio_AllHomes.csv')"
   ]
  },
  {
   "cell_type": "code",
   "execution_count": 156,
   "metadata": {},
   "outputs": [],
   "source": [
    "####Prep data frames to be merged for analysis and modeling: find annual averages, annual avg growth \n",
    "####rates, annual avg growth rates for multiple time periods"
   ]
  },
  {
   "cell_type": "code",
   "execution_count": 157,
   "metadata": {},
   "outputs": [],
   "source": [
    "####rent\n",
    "\n",
    "rent['rent_avg_201109_201208'] = rent.loc[:, '2011-09':'2012-08'].mean(axis=1)\n",
    "rent['rent_avg_201209_201308'] = rent.loc[:, '2012-09':'2013-08'].mean(axis=1)\n",
    "rent['rent_avg_201309_201408'] = rent.loc[:, '2013-09':'2014-08'].mean(axis=1)\n",
    "rent['rent_avg_201409_201508'] = rent.loc[:, '2014-09':'2015-08'].mean(axis=1)\n",
    "rent['rent_avg_201509_201608'] = rent.loc[:, '2015-09':'2016-08'].mean(axis=1)\n",
    "rent['rent_avg_201609_201708'] = rent.loc[:, '2016-09':'2017-08'].mean(axis=1)\n",
    "rent['rent_avg_201709_201808'] = rent.loc[:, '2017-09':'2018-08'].mean(axis=1)\n",
    "\n",
    "rent['rent_yoy_gr_2011_2013'] = (rent.rent_avg_201209_201308 - rent.rent_avg_201109_201208) / rent.rent_avg_201109_201208\n",
    "rent['rent_yoy_gr_2012_2014'] = (rent.rent_avg_201309_201408 - rent.rent_avg_201209_201308) / rent.rent_avg_201209_201308\n",
    "rent['rent_yoy_gr_2013_2015'] = (rent.rent_avg_201409_201508 - rent.rent_avg_201309_201408) / rent.rent_avg_201309_201408\n",
    "rent['rent_yoy_gr_2014_2016'] = (rent.rent_avg_201509_201608 - rent.rent_avg_201409_201508) / rent.rent_avg_201409_201508\n",
    "rent['rent_yoy_gr_2015_2017'] = (rent.rent_avg_201609_201708 - rent.rent_avg_201509_201608) / rent.rent_avg_201509_201608\n",
    "rent['rent_yoy_gr_2016_2018'] = (rent.rent_avg_201709_201808 - rent.rent_avg_201609_201708) / rent.rent_avg_201609_201708\n",
    "\n",
    "rent['rent_2yravg_yoy_gr_2015_2018'] = (rent.rent_yoy_gr_2015_2017 + rent.rent_yoy_gr_2016_2018) / 2\n",
    "rent['rent_3yravg_yoy_gr_2014_2018'] = (rent.rent_yoy_gr_2014_2016 + rent.rent_yoy_gr_2015_2017 + rent.rent_yoy_gr_2016_2018) / 3\n",
    "rent['rent_4yravg_yoy_gr_2013_2018'] = (rent.rent_yoy_gr_2013_2015 + rent.rent_yoy_gr_2014_2016 + rent.rent_yoy_gr_2015_2017 + rent.rent_yoy_gr_2016_2018) / 4\n",
    "rent['rent_5yravg_yoy_gr_2012_2018'] = (rent.rent_yoy_gr_2012_2014 + rent.rent_yoy_gr_2013_2015 + rent.rent_yoy_gr_2014_2016 + rent.rent_yoy_gr_2015_2017 + rent.rent_yoy_gr_2016_2018) / 5\n",
    "rent['rent_6yravg_yoy_gr_2011_2018'] = (rent.rent_yoy_gr_2011_2013 + rent.rent_yoy_gr_2012_2014 + rent.rent_yoy_gr_2013_2015 + rent.rent_yoy_gr_2014_2016 + rent.rent_yoy_gr_2015_2017 + rent.rent_yoy_gr_2016_2018) / 6\n",
    "\n",
    "####for ptrg 3yr\n",
    "rent['rent_3yravg_yoy_gr_2011_2015'] = (rent.rent_yoy_gr_2011_2013 + rent.rent_yoy_gr_2012_2014 + rent.rent_yoy_gr_2013_2015) / 3\n",
    "rent['rent_3yravg_yoy_gr_2012_2016'] = (rent.rent_yoy_gr_2012_2014 + rent.rent_yoy_gr_2013_2015 + rent.rent_yoy_gr_2014_2016) / 3\n",
    "rent['rent_3yravg_yoy_gr_2013_2017'] = (rent.rent_yoy_gr_2013_2015 + rent.rent_yoy_gr_2014_2016 + rent.rent_yoy_gr_2015_2017) / 3"
   ]
  },
  {
   "cell_type": "code",
   "execution_count": 158,
   "metadata": {},
   "outputs": [],
   "source": [
    "####value\n",
    "\n",
    "value['value_avg_201109_201208'] = value.loc[:, '2011-09':'2012-08'].mean(axis=1)\n",
    "value['value_avg_201209_201308'] = value.loc[:, '2012-09':'2013-08'].mean(axis=1)\n",
    "value['value_avg_201309_201408'] = value.loc[:, '2013-09':'2014-08'].mean(axis=1)\n",
    "value['value_avg_201409_201508'] = value.loc[:, '2014-09':'2015-08'].mean(axis=1)\n",
    "value['value_avg_201509_201608'] = value.loc[:, '2015-09':'2016-08'].mean(axis=1)\n",
    "value['value_avg_201609_201708'] = value.loc[:, '2016-09':'2017-08'].mean(axis=1)\n",
    "value['value_avg_201709_201808'] = value.loc[:, '2017-09':'2018-08'].mean(axis=1)\n",
    "\n",
    "value['value_yoy_gr_2011_2013'] = (value.value_avg_201209_201308 - value.value_avg_201109_201208) / value.value_avg_201109_201208\n",
    "value['value_yoy_gr_2012_2014'] = (value.value_avg_201309_201408 - value.value_avg_201209_201308) / value.value_avg_201209_201308\n",
    "value['value_yoy_gr_2013_2015'] = (value.value_avg_201409_201508 - value.value_avg_201309_201408) / value.value_avg_201309_201408\n",
    "value['value_yoy_gr_2014_2016'] = (value.value_avg_201509_201608 - value.value_avg_201409_201508) / value.value_avg_201409_201508\n",
    "value['value_yoy_gr_2015_2017'] = (value.value_avg_201609_201708 - value.value_avg_201509_201608) / value.value_avg_201509_201608\n",
    "value['value_yoy_gr_2016_2018'] = (value.value_avg_201709_201808 - value.value_avg_201609_201708) / value.value_avg_201609_201708\n",
    "\n",
    "value['value_2yravg_yoy_gr_2015_2018'] = (value.value_yoy_gr_2015_2017 + value.value_yoy_gr_2016_2018) / 2\n",
    "value['value_3yravg_yoy_gr_2014_2018'] = (value.value_yoy_gr_2014_2016 + value.value_yoy_gr_2015_2017 + value.value_yoy_gr_2016_2018) / 3\n",
    "value['value_4yravg_yoy_gr_2013_2018'] = (value.value_yoy_gr_2013_2015 + value.value_yoy_gr_2014_2016 + value.value_yoy_gr_2015_2017 + value.value_yoy_gr_2016_2018) / 4\n",
    "value['value_5yravg_yoy_gr_2012_2018'] = (value.value_yoy_gr_2012_2014 + value.value_yoy_gr_2013_2015 + value.value_yoy_gr_2014_2016 + value.value_yoy_gr_2015_2017 + value.value_yoy_gr_2016_2018) / 5\n",
    "value['value_6yravg_yoy_gr_2011_2018'] = (value.value_yoy_gr_2011_2013 + value.value_yoy_gr_2012_2014 + value.value_yoy_gr_2013_2015 + value.value_yoy_gr_2014_2016 + value.value_yoy_gr_2015_2017 + value.value_yoy_gr_2016_2018) / 6"
   ]
  },
  {
   "cell_type": "code",
   "execution_count": 159,
   "metadata": {},
   "outputs": [],
   "source": [
    "####price_to_rent\n",
    "\n",
    "price_to_rent['price_to_rent_avg_201109_201208'] = price_to_rent.loc[:, '2011-09':'2012-08'].mean(axis=1)\n",
    "price_to_rent['price_to_rent_avg_201209_201308'] = price_to_rent.loc[:, '2012-09':'2013-08'].mean(axis=1)\n",
    "price_to_rent['price_to_rent_avg_201309_201408'] = price_to_rent.loc[:, '2013-09':'2014-08'].mean(axis=1)\n",
    "price_to_rent['price_to_rent_avg_201409_201508'] = price_to_rent.loc[:, '2014-09':'2015-08'].mean(axis=1)\n",
    "price_to_rent['price_to_rent_avg_201509_201608'] = price_to_rent.loc[:, '2015-09':'2016-08'].mean(axis=1)\n",
    "price_to_rent['price_to_rent_avg_201609_201708'] = price_to_rent.loc[:, '2016-09':'2017-08'].mean(axis=1)\n",
    "price_to_rent['price_to_rent_avg_201709_201808'] = price_to_rent.loc[:, '2017-09':'2018-08'].mean(axis=1)"
   ]
  },
  {
   "cell_type": "code",
   "execution_count": 160,
   "metadata": {},
   "outputs": [],
   "source": [
    "####cut down rent dataframe to RegionName, City, State, Metro, CountyName, SizeRank, and calculations. This is the largest \n",
    "####dataframe so it is first and contains all of the additional columns\n",
    "\n",
    "rent = rent[[\n",
    "    'RegionName',\n",
    "    'City',\n",
    "    'State',\n",
    "    'Metro',\n",
    "    'CountyName',\n",
    "    'SizeRank',\n",
    "    'rent_avg_201109_201208',\n",
    "    'rent_avg_201209_201308',\n",
    "    'rent_avg_201309_201408',\n",
    "    'rent_avg_201409_201508',\n",
    "    'rent_avg_201509_201608',\n",
    "    'rent_avg_201609_201708',\n",
    "    'rent_avg_201709_201808',\n",
    "    'rent_yoy_gr_2011_2013',\n",
    "    'rent_yoy_gr_2012_2014',\n",
    "    'rent_yoy_gr_2013_2015',\n",
    "    'rent_yoy_gr_2014_2016',\n",
    "    'rent_yoy_gr_2015_2017',\n",
    "    'rent_yoy_gr_2016_2018',\n",
    "    'rent_2yravg_yoy_gr_2015_2018',\n",
    "    'rent_3yravg_yoy_gr_2014_2018',\n",
    "    'rent_4yravg_yoy_gr_2013_2018',\n",
    "    'rent_5yravg_yoy_gr_2012_2018',\n",
    "    'rent_6yravg_yoy_gr_2011_2018',\n",
    "    'rent_3yravg_yoy_gr_2011_2015',\n",
    "    'rent_3yravg_yoy_gr_2012_2016',\n",
    "    'rent_3yravg_yoy_gr_2013_2017',\n",
    "]]"
   ]
  },
  {
   "cell_type": "code",
   "execution_count": 161,
   "metadata": {},
   "outputs": [],
   "source": [
    "####cut down value dataframe to RegionName and calculations\n",
    "\n",
    "value = value[[\n",
    "    'RegionName',\n",
    "    'value_avg_201109_201208',\n",
    "    'value_avg_201209_201308',\n",
    "    'value_avg_201309_201408',\n",
    "    'value_avg_201409_201508',\n",
    "    'value_avg_201509_201608',\n",
    "    'value_avg_201609_201708',\n",
    "    'value_avg_201709_201808',\n",
    "    'value_yoy_gr_2011_2013',\n",
    "    'value_yoy_gr_2012_2014',\n",
    "    'value_yoy_gr_2013_2015',\n",
    "    'value_yoy_gr_2014_2016',\n",
    "    'value_yoy_gr_2015_2017',\n",
    "    'value_yoy_gr_2016_2018',\n",
    "    'value_2yravg_yoy_gr_2015_2018',\n",
    "    'value_3yravg_yoy_gr_2014_2018',\n",
    "    'value_4yravg_yoy_gr_2013_2018',\n",
    "    'value_5yravg_yoy_gr_2012_2018',\n",
    "    'value_6yravg_yoy_gr_2011_2018',\n",
    "]]"
   ]
  },
  {
   "cell_type": "code",
   "execution_count": 162,
   "metadata": {},
   "outputs": [],
   "source": [
    "####cut down price_to_rent dataframe to RegionName and calculations\n",
    "\n",
    "price_to_rent = price_to_rent[[\n",
    "    'RegionName',\n",
    "    'price_to_rent_avg_201109_201208',\n",
    "    'price_to_rent_avg_201209_201308',\n",
    "    'price_to_rent_avg_201309_201408',\n",
    "    'price_to_rent_avg_201409_201508',\n",
    "    'price_to_rent_avg_201509_201608',\n",
    "    'price_to_rent_avg_201609_201708',\n",
    "    'price_to_rent_avg_201709_201808',\n",
    "]]"
   ]
  },
  {
   "cell_type": "code",
   "execution_count": 163,
   "metadata": {},
   "outputs": [],
   "source": [
    "####Join all on RegionName\n",
    "\n",
    "zillow = rent.merge(value, on='RegionName', how='inner').merge(price_to_rent, on='RegionName', how='inner')"
   ]
  },
  {
   "cell_type": "code",
   "execution_count": 164,
   "metadata": {},
   "outputs": [
    {
     "data": {
      "text/plain": [
       "(13722, 52)"
      ]
     },
     "execution_count": 164,
     "metadata": {},
     "output_type": "execute_result"
    }
   ],
   "source": [
    "zillow.shape"
   ]
  },
  {
   "cell_type": "code",
   "execution_count": 165,
   "metadata": {},
   "outputs": [],
   "source": [
    "####ptrg: price_to_rent needs to be joined with rent on RegionName to determine ptrg ('Price to Rental Growth')\n",
    "####ptrg is found by dividing price_to_rent by (rent_yoy_gr * 100)"
   ]
  },
  {
   "cell_type": "code",
   "execution_count": 166,
   "metadata": {},
   "outputs": [],
   "source": [
    "####ptrg 1yr\n",
    "\n",
    "zillow['ptrg_1yr_201209_201308'] = zillow.price_to_rent_avg_201209_201308 / (zillow.rent_yoy_gr_2011_2013 * 100)\n",
    "zillow['ptrg_1yr_201309_201408'] = zillow.price_to_rent_avg_201309_201408 / (zillow.rent_yoy_gr_2012_2014 * 100)\n",
    "zillow['ptrg_1yr_201409_201508'] = zillow.price_to_rent_avg_201409_201508 / (zillow.rent_yoy_gr_2013_2015 * 100)\n",
    "zillow['ptrg_1yr_201509_201608'] = zillow.price_to_rent_avg_201509_201608 / (zillow.rent_yoy_gr_2014_2016 * 100)\n",
    "zillow['ptrg_1yr_201609_201708'] = zillow.price_to_rent_avg_201609_201708 / (zillow.rent_yoy_gr_2015_2017 * 100)\n",
    "zillow['ptrg_1yr_201709_201808'] = zillow.price_to_rent_avg_201709_201808 / (zillow.rent_yoy_gr_2016_2018 * 100)"
   ]
  },
  {
   "cell_type": "code",
   "execution_count": 167,
   "metadata": {},
   "outputs": [],
   "source": [
    "####ptrg 3yr\n",
    "\n",
    "zillow['ptrg_3yr_2011_2015'] = zillow.price_to_rent_avg_201409_201508 / (zillow.rent_3yravg_yoy_gr_2011_2015 * 100)\n",
    "zillow['ptrg_3yr_2012_2016'] = zillow.price_to_rent_avg_201509_201608 / (zillow.rent_3yravg_yoy_gr_2012_2016 * 100)\n",
    "zillow['ptrg_3yr_2013_2017'] = zillow.price_to_rent_avg_201609_201708 / (zillow.rent_3yravg_yoy_gr_2013_2017 * 100)\n",
    "zillow['ptrg_3yr_2014_2018'] = zillow.price_to_rent_avg_201709_201808 / (zillow.rent_3yravg_yoy_gr_2014_2018 * 100)"
   ]
  },
  {
   "cell_type": "code",
   "execution_count": 168,
   "metadata": {},
   "outputs": [
    {
     "data": {
      "text/plain": [
       "(13722, 62)"
      ]
     },
     "execution_count": 168,
     "metadata": {},
     "output_type": "execute_result"
    }
   ],
   "source": [
    "zillow.shape"
   ]
  },
  {
   "cell_type": "code",
   "execution_count": 169,
   "metadata": {},
   "outputs": [
    {
     "data": {
      "text/plain": [
       "RegionName                           0\n",
       "City                                 0\n",
       "State                                0\n",
       "Metro                              765\n",
       "CountyName                           0\n",
       "SizeRank                             0\n",
       "rent_avg_201109_201208              15\n",
       "rent_avg_201209_201308              15\n",
       "rent_avg_201309_201408              15\n",
       "rent_avg_201409_201508              15\n",
       "rent_avg_201509_201608               0\n",
       "rent_avg_201609_201708               0\n",
       "rent_avg_201709_201808               0\n",
       "rent_yoy_gr_2011_2013               15\n",
       "rent_yoy_gr_2012_2014               15\n",
       "rent_yoy_gr_2013_2015               15\n",
       "rent_yoy_gr_2014_2016               15\n",
       "rent_yoy_gr_2015_2017                0\n",
       "rent_yoy_gr_2016_2018                0\n",
       "rent_2yravg_yoy_gr_2015_2018         0\n",
       "rent_3yravg_yoy_gr_2014_2018        15\n",
       "rent_4yravg_yoy_gr_2013_2018        15\n",
       "rent_5yravg_yoy_gr_2012_2018        15\n",
       "rent_6yravg_yoy_gr_2011_2018        15\n",
       "rent_3yravg_yoy_gr_2011_2015        15\n",
       "rent_3yravg_yoy_gr_2012_2016        15\n",
       "rent_3yravg_yoy_gr_2013_2017        15\n",
       "value_avg_201109_201208            180\n",
       "value_avg_201209_201308             89\n",
       "value_avg_201309_201408              0\n",
       "                                  ... \n",
       "value_avg_201609_201708              0\n",
       "value_avg_201709_201808              0\n",
       "value_yoy_gr_2011_2013             180\n",
       "value_yoy_gr_2012_2014              89\n",
       "value_yoy_gr_2013_2015               0\n",
       "value_yoy_gr_2014_2016               0\n",
       "value_yoy_gr_2015_2017               0\n",
       "value_yoy_gr_2016_2018               0\n",
       "value_2yravg_yoy_gr_2015_2018        0\n",
       "value_3yravg_yoy_gr_2014_2018        0\n",
       "value_4yravg_yoy_gr_2013_2018        0\n",
       "value_5yravg_yoy_gr_2012_2018       89\n",
       "value_6yravg_yoy_gr_2011_2018      180\n",
       "price_to_rent_avg_201109_201208    702\n",
       "price_to_rent_avg_201209_201308    604\n",
       "price_to_rent_avg_201309_201408    501\n",
       "price_to_rent_avg_201409_201508    492\n",
       "price_to_rent_avg_201509_201608    256\n",
       "price_to_rent_avg_201609_201708      3\n",
       "price_to_rent_avg_201709_201808      0\n",
       "ptrg_1yr_201209_201308             604\n",
       "ptrg_1yr_201309_201408             501\n",
       "ptrg_1yr_201409_201508             493\n",
       "ptrg_1yr_201509_201608             266\n",
       "ptrg_1yr_201609_201708               3\n",
       "ptrg_1yr_201709_201808               0\n",
       "ptrg_3yr_2011_2015                 493\n",
       "ptrg_3yr_2012_2016                 266\n",
       "ptrg_3yr_2013_2017                  18\n",
       "ptrg_3yr_2014_2018                  15\n",
       "Length: 62, dtype: int64"
      ]
     },
     "execution_count": 169,
     "metadata": {},
     "output_type": "execute_result"
    }
   ],
   "source": [
    "zillow.isna().sum()"
   ]
  },
  {
   "cell_type": "code",
   "execution_count": 170,
   "metadata": {},
   "outputs": [],
   "source": [
    "zillow = zillow.dropna()"
   ]
  },
  {
   "cell_type": "code",
   "execution_count": 171,
   "metadata": {},
   "outputs": [
    {
     "data": {
      "text/plain": [
       "(12434, 62)"
      ]
     },
     "execution_count": 171,
     "metadata": {},
     "output_type": "execute_result"
    }
   ],
   "source": [
    "zillow.shape"
   ]
  },
  {
   "cell_type": "code",
   "execution_count": 172,
   "metadata": {},
   "outputs": [
    {
     "data": {
      "text/plain": [
       "RegionName                         0\n",
       "City                               0\n",
       "State                              0\n",
       "Metro                              0\n",
       "CountyName                         0\n",
       "SizeRank                           0\n",
       "rent_avg_201109_201208             0\n",
       "rent_avg_201209_201308             0\n",
       "rent_avg_201309_201408             0\n",
       "rent_avg_201409_201508             0\n",
       "rent_avg_201509_201608             0\n",
       "rent_avg_201609_201708             0\n",
       "rent_avg_201709_201808             0\n",
       "rent_yoy_gr_2011_2013              0\n",
       "rent_yoy_gr_2012_2014              0\n",
       "rent_yoy_gr_2013_2015              0\n",
       "rent_yoy_gr_2014_2016              0\n",
       "rent_yoy_gr_2015_2017              0\n",
       "rent_yoy_gr_2016_2018              0\n",
       "rent_2yravg_yoy_gr_2015_2018       0\n",
       "rent_3yravg_yoy_gr_2014_2018       0\n",
       "rent_4yravg_yoy_gr_2013_2018       0\n",
       "rent_5yravg_yoy_gr_2012_2018       0\n",
       "rent_6yravg_yoy_gr_2011_2018       0\n",
       "rent_3yravg_yoy_gr_2011_2015       0\n",
       "rent_3yravg_yoy_gr_2012_2016       0\n",
       "rent_3yravg_yoy_gr_2013_2017       0\n",
       "value_avg_201109_201208            0\n",
       "value_avg_201209_201308            0\n",
       "value_avg_201309_201408            0\n",
       "                                  ..\n",
       "value_avg_201609_201708            0\n",
       "value_avg_201709_201808            0\n",
       "value_yoy_gr_2011_2013             0\n",
       "value_yoy_gr_2012_2014             0\n",
       "value_yoy_gr_2013_2015             0\n",
       "value_yoy_gr_2014_2016             0\n",
       "value_yoy_gr_2015_2017             0\n",
       "value_yoy_gr_2016_2018             0\n",
       "value_2yravg_yoy_gr_2015_2018      0\n",
       "value_3yravg_yoy_gr_2014_2018      0\n",
       "value_4yravg_yoy_gr_2013_2018      0\n",
       "value_5yravg_yoy_gr_2012_2018      0\n",
       "value_6yravg_yoy_gr_2011_2018      0\n",
       "price_to_rent_avg_201109_201208    0\n",
       "price_to_rent_avg_201209_201308    0\n",
       "price_to_rent_avg_201309_201408    0\n",
       "price_to_rent_avg_201409_201508    0\n",
       "price_to_rent_avg_201509_201608    0\n",
       "price_to_rent_avg_201609_201708    0\n",
       "price_to_rent_avg_201709_201808    0\n",
       "ptrg_1yr_201209_201308             0\n",
       "ptrg_1yr_201309_201408             0\n",
       "ptrg_1yr_201409_201508             0\n",
       "ptrg_1yr_201509_201608             0\n",
       "ptrg_1yr_201609_201708             0\n",
       "ptrg_1yr_201709_201808             0\n",
       "ptrg_3yr_2011_2015                 0\n",
       "ptrg_3yr_2012_2016                 0\n",
       "ptrg_3yr_2013_2017                 0\n",
       "ptrg_3yr_2014_2018                 0\n",
       "Length: 62, dtype: int64"
      ]
     },
     "execution_count": 172,
     "metadata": {},
     "output_type": "execute_result"
    }
   ],
   "source": [
    "zillow.isna().sum()"
   ]
  },
  {
   "cell_type": "code",
   "execution_count": 173,
   "metadata": {},
   "outputs": [],
   "source": [
    "zillow.to_csv('data/zillow_201808_r_v_prg_ptrg.csv', index = False)"
   ]
  },
  {
   "cell_type": "code",
   "execution_count": null,
   "metadata": {},
   "outputs": [],
   "source": []
  }
 ],
 "metadata": {
  "kernelspec": {
   "display_name": "Python 3",
   "language": "python",
   "name": "python3"
  },
  "language_info": {
   "codemirror_mode": {
    "name": "ipython",
    "version": 3
   },
   "file_extension": ".py",
   "mimetype": "text/x-python",
   "name": "python",
   "nbconvert_exporter": "python",
   "pygments_lexer": "ipython3",
   "version": "3.6.5"
  }
 },
 "nbformat": 4,
 "nbformat_minor": 2
}
