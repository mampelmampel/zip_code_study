{
 "cells": [
  {
   "cell_type": "code",
   "execution_count": 2,
   "metadata": {},
   "outputs": [],
   "source": [
    "import pandas as pd\n",
    "import numpy as np\n",
    "import seaborn as sns\n",
    "import matplotlib.pyplot as plt\n",
    "%matplotlib inline\n",
    "\n",
    "zillow = pd.read_csv('data/zillow_201808.csv')"
   ]
  },
  {
   "cell_type": "code",
   "execution_count": 4,
   "metadata": {},
   "outputs": [
    {
     "data": {
      "text/plain": [
       "Index(['RegionID', 'RegionName', 'State', 'SizeRank',\n",
       "       'price_to_rent_avg_201609_201708', 'price_to_rent_3yravg_2014_2017',\n",
       "       'value_yoy_gr_2016_2018', 'rent_yoy_gr_2015_2017',\n",
       "       'rent_3yravg_yoy_gr_2013_2017', 'sale_count_yoy_gr_2015_2017',\n",
       "       'sale_count_3yravg_yoy_gr_2013_2017', 'turnover_yoy_gr_2015_2017',\n",
       "       'turnover_3yravg_yoy_gr_2013_2017', 'pct_reduced_yoy_gr_2015_2017',\n",
       "       'pct_reduced_3yravg_yoy_gr_2013_2017', 'sale_price_yoy_gr_2015_2017',\n",
       "       'sale_price_3yravg_yoy_gr_2013_2017', 'ptrg_1yr_201609_201708',\n",
       "       'ptrg_3yr_2013_2017'],\n",
       "      dtype='object')"
      ]
     },
     "execution_count": 4,
     "metadata": {},
     "output_type": "execute_result"
    }
   ],
   "source": [
    "zillow.columns"
   ]
  },
  {
   "cell_type": "code",
   "execution_count": 5,
   "metadata": {},
   "outputs": [],
   "source": [
    "feature_cols = zillow.columns.drop(['value_yoy_gr_2016_2018', 'RegionID', 'RegionName', 'State', 'SizeRank'])\n",
    "\n",
    "X = zillow[feature_cols]\n",
    "\n",
    "y = zillow.value_yoy_gr_2016_2018"
   ]
  },
  {
   "cell_type": "code",
   "execution_count": 6,
   "metadata": {},
   "outputs": [],
   "source": [
    "from sklearn.ensemble import RandomForestRegressor"
   ]
  },
  {
   "cell_type": "code",
   "execution_count": 7,
   "metadata": {},
   "outputs": [
    {
     "data": {
      "text/plain": [
       "RandomForestRegressor(bootstrap=True, criterion='mse', max_depth=None,\n",
       "           max_features=5, max_leaf_nodes=None, min_impurity_decrease=0.0,\n",
       "           min_impurity_split=None, min_samples_leaf=1,\n",
       "           min_samples_split=2, min_weight_fraction_leaf=0.0,\n",
       "           n_estimators=150, n_jobs=1, oob_score=True, random_state=99,\n",
       "           verbose=0, warm_start=False)"
      ]
     },
     "execution_count": 7,
     "metadata": {},
     "output_type": "execute_result"
    }
   ],
   "source": [
    "# max_features=5 is best and n_estimators=150 is sufficiently large.\n",
    "rfreg = RandomForestRegressor(n_estimators=150, max_features=5, oob_score=True, random_state=99)\n",
    "rfreg.fit(X, y)"
   ]
  },
  {
   "cell_type": "code",
   "execution_count": 8,
   "metadata": {},
   "outputs": [
    {
     "data": {
      "text/html": [
       "<div>\n",
       "<style scoped>\n",
       "    .dataframe tbody tr th:only-of-type {\n",
       "        vertical-align: middle;\n",
       "    }\n",
       "\n",
       "    .dataframe tbody tr th {\n",
       "        vertical-align: top;\n",
       "    }\n",
       "\n",
       "    .dataframe thead th {\n",
       "        text-align: right;\n",
       "    }\n",
       "</style>\n",
       "<table border=\"1\" class=\"dataframe\">\n",
       "  <thead>\n",
       "    <tr style=\"text-align: right;\">\n",
       "      <th></th>\n",
       "      <th>feature</th>\n",
       "      <th>importance</th>\n",
       "    </tr>\n",
       "  </thead>\n",
       "  <tbody>\n",
       "    <tr>\n",
       "      <th>5</th>\n",
       "      <td>sale_count_3yravg_yoy_gr_2013_2017</td>\n",
       "      <td>0.028345</td>\n",
       "    </tr>\n",
       "    <tr>\n",
       "      <th>4</th>\n",
       "      <td>sale_count_yoy_gr_2015_2017</td>\n",
       "      <td>0.028889</td>\n",
       "    </tr>\n",
       "    <tr>\n",
       "      <th>6</th>\n",
       "      <td>turnover_yoy_gr_2015_2017</td>\n",
       "      <td>0.031503</td>\n",
       "    </tr>\n",
       "    <tr>\n",
       "      <th>7</th>\n",
       "      <td>turnover_3yravg_yoy_gr_2013_2017</td>\n",
       "      <td>0.034924</td>\n",
       "    </tr>\n",
       "    <tr>\n",
       "      <th>13</th>\n",
       "      <td>ptrg_3yr_2013_2017</td>\n",
       "      <td>0.036649</td>\n",
       "    </tr>\n",
       "    <tr>\n",
       "      <th>12</th>\n",
       "      <td>ptrg_1yr_201609_201708</td>\n",
       "      <td>0.046573</td>\n",
       "    </tr>\n",
       "    <tr>\n",
       "      <th>8</th>\n",
       "      <td>pct_reduced_yoy_gr_2015_2017</td>\n",
       "      <td>0.047227</td>\n",
       "    </tr>\n",
       "    <tr>\n",
       "      <th>3</th>\n",
       "      <td>rent_3yravg_yoy_gr_2013_2017</td>\n",
       "      <td>0.066735</td>\n",
       "    </tr>\n",
       "    <tr>\n",
       "      <th>2</th>\n",
       "      <td>rent_yoy_gr_2015_2017</td>\n",
       "      <td>0.072527</td>\n",
       "    </tr>\n",
       "    <tr>\n",
       "      <th>0</th>\n",
       "      <td>price_to_rent_avg_201609_201708</td>\n",
       "      <td>0.081919</td>\n",
       "    </tr>\n",
       "    <tr>\n",
       "      <th>9</th>\n",
       "      <td>pct_reduced_3yravg_yoy_gr_2013_2017</td>\n",
       "      <td>0.088147</td>\n",
       "    </tr>\n",
       "    <tr>\n",
       "      <th>1</th>\n",
       "      <td>price_to_rent_3yravg_2014_2017</td>\n",
       "      <td>0.094579</td>\n",
       "    </tr>\n",
       "    <tr>\n",
       "      <th>10</th>\n",
       "      <td>sale_price_yoy_gr_2015_2017</td>\n",
       "      <td>0.160409</td>\n",
       "    </tr>\n",
       "    <tr>\n",
       "      <th>11</th>\n",
       "      <td>sale_price_3yravg_yoy_gr_2013_2017</td>\n",
       "      <td>0.181575</td>\n",
       "    </tr>\n",
       "  </tbody>\n",
       "</table>\n",
       "</div>"
      ],
      "text/plain": [
       "                                feature  importance\n",
       "5    sale_count_3yravg_yoy_gr_2013_2017    0.028345\n",
       "4           sale_count_yoy_gr_2015_2017    0.028889\n",
       "6             turnover_yoy_gr_2015_2017    0.031503\n",
       "7      turnover_3yravg_yoy_gr_2013_2017    0.034924\n",
       "13                   ptrg_3yr_2013_2017    0.036649\n",
       "12               ptrg_1yr_201609_201708    0.046573\n",
       "8          pct_reduced_yoy_gr_2015_2017    0.047227\n",
       "3          rent_3yravg_yoy_gr_2013_2017    0.066735\n",
       "2                 rent_yoy_gr_2015_2017    0.072527\n",
       "0       price_to_rent_avg_201609_201708    0.081919\n",
       "9   pct_reduced_3yravg_yoy_gr_2013_2017    0.088147\n",
       "1        price_to_rent_3yravg_2014_2017    0.094579\n",
       "10          sale_price_yoy_gr_2015_2017    0.160409\n",
       "11   sale_price_3yravg_yoy_gr_2013_2017    0.181575"
      ]
     },
     "execution_count": 8,
     "metadata": {},
     "output_type": "execute_result"
    }
   ],
   "source": [
    "# Compute feature importances.\n",
    "pd.DataFrame({'feature':feature_cols, 'importance':rfreg.feature_importances_}).sort_values(by='importance')"
   ]
  },
  {
   "cell_type": "code",
   "execution_count": 9,
   "metadata": {},
   "outputs": [
    {
     "name": "stdout",
     "output_type": "stream",
     "text": [
      "0.5134756056312553\n"
     ]
    },
    {
     "data": {
      "text/plain": [
       "0.030213010316276358"
      ]
     },
     "execution_count": 9,
     "metadata": {},
     "output_type": "execute_result"
    }
   ],
   "source": [
    "from sklearn import metrics\n",
    "from sklearn.model_selection import cross_val_score\n",
    "\n",
    "# Compute the out-of-bag R-squared score.\n",
    "print((rfreg.oob_score_))\n",
    "\n",
    "# Find the average RMSE.\n",
    "scores = cross_val_score(rfreg, X, y, cv=10, scoring='neg_mean_squared_error')\n",
    "np.mean(np.sqrt(-scores))"
   ]
  },
  {
   "cell_type": "code",
   "execution_count": 11,
   "metadata": {},
   "outputs": [
    {
     "name": "stdout",
     "output_type": "stream",
     "text": [
      "Out-of-bag R-squared score\n",
      "0.5134756056312553\n",
      "Average RMSE\n",
      "0.030213010316276358\n",
      "--------------------\n",
      "Null RMSE - Always predicting the mean response value\n",
      "0.042235267683440235\n"
     ]
    }
   ],
   "source": [
    "print('Out-of-bag R-squared score')\n",
    "print('0.5134756056312553')\n",
    "print('Average RMSE')\n",
    "print('0.030213010316276358')\n",
    "print('--------------------')\n",
    "print('Null RMSE - Always predicting the mean response value')\n",
    "print('0.042235267683440235')"
   ]
  },
  {
   "cell_type": "code",
   "execution_count": null,
   "metadata": {},
   "outputs": [],
   "source": []
  }
 ],
 "metadata": {
  "kernelspec": {
   "display_name": "Python 3",
   "language": "python",
   "name": "python3"
  },
  "language_info": {
   "codemirror_mode": {
    "name": "ipython",
    "version": 3
   },
   "file_extension": ".py",
   "mimetype": "text/x-python",
   "name": "python",
   "nbconvert_exporter": "python",
   "pygments_lexer": "ipython3",
   "version": "3.6.5"
  }
 },
 "nbformat": 4,
 "nbformat_minor": 2
}
